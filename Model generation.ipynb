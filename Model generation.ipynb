{
 "cells": [
  {
   "cell_type": "code",
   "execution_count": 8,
   "id": "7cb2ff16-0162-41a6-b65f-24c35c23838a",
   "metadata": {},
   "outputs": [
    {
     "name": "stdout",
     "output_type": "stream",
     "text": [
      "1\n",
      "(6, 1)\n",
      "_CudaDeviceProperties(name='GeForce GTX 1050', major=6, minor=1, total_memory=4096MB, multi_processor_count=5)\n"
     ]
    }
   ],
   "source": [
    "from torch_snippets import transforms, Dataset, read, randint, nn, optim, DataLoader, Report, plt\n",
    "#from torch_snippets import *\n",
    "from sklearn.model_selection import StratifiedKFold\n",
    "import pandas as pd\n",
    "from tqdm import notebook\n",
    "import cv2 as cv2\n",
    "import torch \n",
    "from torchsummary import summary\n",
    "DEVICE = \"cuda\" if torch.cuda.is_available() else \"cpu\"\n",
    "DATA_PATH = \"C:/Users/janop/Dropbox/Documents/Projects/GarbageProcessing/Reproduction of results/SpotGarbage Smartphone App to Detect Garbage Using Deep Learning/spotgarbage-GINI-master/spotgarbage/\"\n",
    "\n",
    "print(torch.cuda.device_count())\n",
    "print(torch.cuda.get_device_capability())\n",
    "print(torch.cuda.get_device_properties(0))"
   ]
  },
  {
   "cell_type": "code",
   "execution_count": 2,
   "id": "19bd3b90-4abf-4e87-ab8a-7db4b58f4960",
   "metadata": {},
   "outputs": [],
   "source": [
    "tfms = transforms.Compose([\n",
    "    transforms.ToTensor(),\n",
    "    transforms.Normalize([0.485, 0.456, 0.406], [0.229, 0.224, 0.225]) # imagenet\n",
    "])"
   ]
  },
  {
   "cell_type": "markdown",
   "id": "1cca4001-1405-49f8-b6cf-a5c16f804c01",
   "metadata": {},
   "source": [
    "Our Dataset overload is now a bit more sophisticated as it now implements k-fold stratified cross validation. Use sklearn for this"
   ]
  },
  {
   "cell_type": "code",
   "execution_count": 3,
   "id": "27e5d486-d3d6-465d-8b36-7ee5f4620f08",
   "metadata": {},
   "outputs": [],
   "source": [
    "Splits = None\n",
    "df_train = None\n",
    "class pathchData(Dataset):\n",
    "    def __init__(self, split, train_data, n_splits=5, aug=None):\n",
    "        global Splits\n",
    "        global df_train\n",
    "        self.train_data  = train_data\n",
    "        self.split       = split\n",
    "        self.aug         = aug\n",
    "        if Splits == None:\n",
    "            splitter = StratifiedKFold(n_splits, shuffle=True, random_state=0)\n",
    "            df_train = pd.read_csv(DATA_PATH + \"train.csv\", delimiter=\",\")\n",
    "            Splits = []\n",
    "            for train_idx, test_idx in splitter.split(df_train[\"name\"], df_train[\"class\"]):\n",
    "                Splits.append((train_idx, test_idx))\n",
    "            torch.save(Splits, DATA_PATH + \"splits.pt\")\n",
    "\n",
    "    def __len__(self):\n",
    "        return len(Splits[self.split][0]) if self.train_data else len(Splits[self.split][1])\n",
    "    def __getitem__(self, ix):\n",
    "        i = 0 if self.train_data else 1\n",
    "        fullName = df_train[\"name\"][Splits[self.split][i][ix]]\n",
    "        garbageClass = df_train[\"class\"][Splits[self.split][i][ix]]\n",
    "        image = read(DATA_PATH + f\"patches/{fullName}\",1)\n",
    "        image = cv2.resize(image, (227, 227))\n",
    "        return image, 1 if garbageClass == \"garbage\" else 0\n",
    "    def choose(self): return self[randint(len(self))]\n",
    "    def collate_fn(self, batch):\n",
    "        ims, garbageClasses = list(zip(*batch))\n",
    "        ims = torch.cat([tfms(im.copy()/255.)[None] for im in ims]).float().to(DEVICE)\n",
    "        garbageClasses = torch.tensor(garbageClasses).to(DEVICE)\n",
    "        return ims, garbageClasses"
   ]
  },
  {
   "cell_type": "code",
   "execution_count": 4,
   "id": "701a4fc1-176f-4b62-9824-600ed500f458",
   "metadata": {},
   "outputs": [
    {
     "name": "stderr",
     "output_type": "stream",
     "text": [
      "Using cache found in C:\\Users\\janop/.cache\\torch\\hub\\pytorch_vision_v0.9.0\n",
      "C:\\Users\\janop\\anaconda3\\Lib\\site-packages\\torch\\nn\\functional.py:718: UserWarning: Named tensors and all their associated APIs are an experimental feature and subject to change. Please do not use them for anything important until they are released as stable. (Triggered internally at  ..\\c10/core/TensorImpl.h:1156.)\n",
      "  return torch.max_pool2d(input, kernel_size, stride, padding, dilation, ceil_mode)\n"
     ]
    },
    {
     "name": "stdout",
     "output_type": "stream",
     "text": [
      "==========================================================================================\n",
      "Layer (type:depth-idx)                   Output Shape              Param #\n",
      "==========================================================================================\n",
      "├─Sequential: 1-1                        [-1, 256, 6, 6]           --\n",
      "|    └─Conv2d: 2-1                       [-1, 64, 56, 56]          (23,296)\n",
      "|    └─ReLU: 2-2                         [-1, 64, 56, 56]          --\n",
      "|    └─MaxPool2d: 2-3                    [-1, 64, 27, 27]          --\n",
      "|    └─Conv2d: 2-4                       [-1, 192, 27, 27]         (307,392)\n",
      "|    └─ReLU: 2-5                         [-1, 192, 27, 27]         --\n",
      "|    └─MaxPool2d: 2-6                    [-1, 192, 13, 13]         --\n",
      "|    └─Conv2d: 2-7                       [-1, 384, 13, 13]         (663,936)\n",
      "|    └─ReLU: 2-8                         [-1, 384, 13, 13]         --\n",
      "|    └─Conv2d: 2-9                       [-1, 256, 13, 13]         (884,992)\n",
      "|    └─ReLU: 2-10                        [-1, 256, 13, 13]         --\n",
      "|    └─Conv2d: 2-11                      [-1, 256, 13, 13]         (590,080)\n",
      "|    └─ReLU: 2-12                        [-1, 256, 13, 13]         --\n",
      "|    └─MaxPool2d: 2-13                   [-1, 256, 6, 6]           --\n",
      "├─AdaptiveAvgPool2d: 1-2                 [-1, 256, 6, 6]           --\n",
      "├─Sequential: 1-3                        [-1, 2]                   --\n",
      "|    └─Dropout: 2-14                     [-1, 9216]                --\n",
      "|    └─Linear: 2-15                      [-1, 512]                 4,719,104\n",
      "|    └─ReLU: 2-16                        [-1, 512]                 --\n",
      "|    └─Dropout: 2-17                     [-1, 512]                 --\n",
      "|    └─Linear: 2-18                      [-1, 256]                 131,328\n",
      "|    └─ReLU: 2-19                        [-1, 256]                 --\n",
      "|    └─Linear: 2-20                      [-1, 2]                   514\n",
      "==========================================================================================\n",
      "Total params: 7,320,642\n",
      "Trainable params: 4,850,946\n",
      "Non-trainable params: 2,469,696\n",
      "Total mult-adds (M): 670.31\n",
      "==========================================================================================\n",
      "Input size (MB): 0.59\n",
      "Forward/backward pass size (MB): 3.76\n",
      "Params size (MB): 27.93\n",
      "Estimated Total Size (MB): 32.28\n",
      "==========================================================================================\n"
     ]
    }
   ],
   "source": [
    "alexnet = torch.hub.load(\"pytorch/vision:v0.9.0\", \"alexnet\", pretrained=True).to(DEVICE)\n",
    "\n",
    "for param in alexnet.parameters():\n",
    "    param.requires_grad = False\n",
    "\n",
    "alexnet.classifier = nn.Sequential(\n",
    "            nn.Dropout(0.5),\n",
    "            nn.Linear(256 * 6 * 6, 512),\n",
    "            nn.ReLU(inplace=True),\n",
    "            nn.Dropout(0.5),\n",
    "            nn.Linear(512, 256),\n",
    "            nn.ReLU(inplace=True),\n",
    "            nn.Linear(256, 2),\n",
    "        ).to(DEVICE)\n",
    "\n",
    "summary(alexnet, (3,227,227));"
   ]
  },
  {
   "cell_type": "markdown",
   "id": "4ff90273-85f8-4281-9295-4e852e5fdeb7",
   "metadata": {},
   "source": [
    "And now for the training loop"
   ]
  },
  {
   "cell_type": "code",
   "execution_count": 5,
   "id": "c18446df-8300-48fb-9ad0-1a97c04d8c3c",
   "metadata": {},
   "outputs": [],
   "source": [
    "def train_batch(model, data, optimizer, criterion):\n",
    "    model.train()\n",
    "    im, garbClass = data\n",
    "    out  = model(im)\n",
    "    optimizer.zero_grad()\n",
    "    loss = criterion(out, garbClass)\n",
    "    acc = (torch.max(out,1)[1] == garbClass).float().mean()\n",
    "    loss.backward()\n",
    "    optimizer.step()\n",
    "    return loss.item(), acc.item()"
   ]
  },
  {
   "cell_type": "code",
   "execution_count": 6,
   "id": "ed945bf4-e2d6-4844-9256-ae20183a5b6b",
   "metadata": {},
   "outputs": [],
   "source": [
    "@torch.no_grad()\n",
    "def validate_batch(model, data, criterion):\n",
    "    model.eval()\n",
    "    im, garbClass = data\n",
    "    out = model(im)\n",
    "    loss = criterion(out, garbClass)\n",
    "    acc = (torch.max(out,1)[1] == garbClass).float().mean()\n",
    "    return loss.item(), acc.item()"
   ]
  },
  {
   "cell_type": "code",
   "execution_count": 9,
   "id": "e29d3161-32ff-4ce8-ae2e-88ee31389f53",
   "metadata": {},
   "outputs": [],
   "source": [
    "optimizer = optim.SGD(alexnet.parameters(), lr=1e-3, momentum=0.9, weight_decay=5*1e-5)\n",
    "#criterion =  nn.BCELoss()# binary cross entropy loss\n",
    "criterion = nn.CrossEntropyLoss()\n",
    "n_epochs = 12 # 12\n",
    "N_folds = 5 # 5\n",
    "trn_ds = [pathchData(x, True) for x in range(N_folds)]\n",
    "val_ds = [pathchData(x, False) for x in range(N_folds)]\n",
    "trn_dl = [DataLoader(x, batch_size=100, shuffle=True, collate_fn=x.collate_fn) for x in trn_ds]\n",
    "val_dl = [DataLoader(x, batch_size=100, shuffle=True, collate_fn=x.collate_fn) for x in val_ds]\n",
    "log = Report(n_epochs * N_folds)\n",
    "scheduler = optim.lr_scheduler.StepLR(optimizer, step_size=2, gamma=0.25)"
   ]
  },
  {
   "cell_type": "markdown",
   "id": "2c065986-142f-48e0-ba93-e59edce7f29b",
   "metadata": {},
   "source": [
    "Now that we have created the datasets lets validate the content. First how much data in each training and validation set"
   ]
  },
  {
   "cell_type": "code",
   "execution_count": 10,
   "id": "3d480469-5876-45f7-94ee-9e3d30901ba8",
   "metadata": {},
   "outputs": [
    {
     "data": {
      "image/png": "[encoded data removed]",
      "text/plain": [
       "<Figure size 432x288 with 1 Axes>"
      ]
     },
     "metadata": {
      "needs_background": "light"
     },
     "output_type": "display_data"
    }
   ],
   "source": [
    "plt.imshow(trn_ds[0][600][0])\n",
    "plt.show()"
   ]
  },
  {
   "cell_type": "markdown",
   "id": "b88b6ec2-1a72-443d-9923-55b724cfd215",
   "metadata": {},
   "source": [
    "for i in range(N_folds):\n",
    "    print(len(trn_ds[i]))\n",
    "    print(len(val_ds[i]))"
   ]
  },
  {
   "cell_type": "markdown",
   "id": "1d749e5a-2ccd-45d2-aee9-6a6d584f62e7",
   "metadata": {},
   "source": [
    "Third, check out the number of garbage and non garbage classes"
   ]
  },
  {
   "cell_type": "code",
   "execution_count": 12,
   "id": "7b469a73-1ae1-4042-8018-ea37362be338",
   "metadata": {},
   "outputs": [
    {
     "data": {
      "application/vnd.jupyter.widget-view+json": {
       "model_id": "65f8a931df3d49c3b96a05139a372d4a",
       "version_major": 2,
       "version_minor": 0
      },
      "text/plain": [
       "trn_ds:   0%|          | 0/208000 [00:00<?, ?it/s]"
      ]
     },
     "metadata": {},
     "output_type": "display_data"
    },
    {
     "data": {
      "application/vnd.jupyter.widget-view+json": {
       "model_id": "731eee70c230446eb7b600f92164bcaa",
       "version_major": 2,
       "version_minor": 0
      },
      "text/plain": [
       "val_ds:   0%|          | 0/52000 [00:00<?, ?it/s]"
      ]
     },
     "metadata": {},
     "output_type": "display_data"
    },
    {
     "data": {
      "application/vnd.jupyter.widget-view+json": {
       "model_id": "adf139a206304385ad29dda0349d4583",
       "version_major": 2,
       "version_minor": 0
      },
      "text/plain": [
       "trn_ds:   0%|          | 0/208000 [00:00<?, ?it/s]"
      ]
     },
     "metadata": {},
     "output_type": "display_data"
    },
    {
     "data": {
      "application/vnd.jupyter.widget-view+json": {
       "model_id": "840870778dd3483581a298b9717a66f7",
       "version_major": 2,
       "version_minor": 0
      },
      "text/plain": [
       "val_ds:   0%|          | 0/52000 [00:00<?, ?it/s]"
      ]
     },
     "metadata": {},
     "output_type": "display_data"
    },
    {
     "data": {
      "application/vnd.jupyter.widget-view+json": {
       "model_id": "950fc0bb1f5c4425b4df41ce14a5ad51",
       "version_major": 2,
       "version_minor": 0
      },
      "text/plain": [
       "trn_ds:   0%|          | 0/208000 [00:00<?, ?it/s]"
      ]
     },
     "metadata": {},
     "output_type": "display_data"
    },
    {
     "data": {
      "application/vnd.jupyter.widget-view+json": {
       "model_id": "fdb0a34b37ad431390a247c9ffd88cc0",
       "version_major": 2,
       "version_minor": 0
      },
      "text/plain": [
       "val_ds:   0%|          | 0/52000 [00:00<?, ?it/s]"
      ]
     },
     "metadata": {},
     "output_type": "display_data"
    },
    {
     "data": {
      "application/vnd.jupyter.widget-view+json": {
       "model_id": "e5c94248afb740058a227e80d64900f0",
       "version_major": 2,
       "version_minor": 0
      },
      "text/plain": [
       "trn_ds:   0%|          | 0/208000 [00:00<?, ?it/s]"
      ]
     },
     "metadata": {},
     "output_type": "display_data"
    },
    {
     "data": {
      "application/vnd.jupyter.widget-view+json": {
       "model_id": "50e991e9fc124a0bae1650edd3b3d13c",
       "version_major": 2,
       "version_minor": 0
      },
      "text/plain": [
       "val_ds:   0%|          | 0/52000 [00:00<?, ?it/s]"
      ]
     },
     "metadata": {},
     "output_type": "display_data"
    },
    {
     "data": {
      "application/vnd.jupyter.widget-view+json": {
       "model_id": "2b9ae6d878854560b63039b15bff19ed",
       "version_major": 2,
       "version_minor": 0
      },
      "text/plain": [
       "trn_ds:   0%|          | 0/208000 [00:00<?, ?it/s]"
      ]
     },
     "metadata": {},
     "output_type": "display_data"
    },
    {
     "data": {
      "application/vnd.jupyter.widget-view+json": {
       "model_id": "66e55e2800964e3cb7016adec900000c",
       "version_major": 2,
       "version_minor": 0
      },
      "text/plain": [
       "val_ds:   0%|          | 0/52000 [00:00<?, ?it/s]"
      ]
     },
     "metadata": {},
     "output_type": "display_data"
    },
    {
     "name": "stdout",
     "output_type": "stream",
     "text": [
      "650000\n",
      "650000\n"
     ]
    }
   ],
   "source": [
    "Ngarb = 0\n",
    "Nnongarb = 0\n",
    "for i in range(N_folds):\n",
    "     for j in notebook.tnrange(208000, desc=\"trn_ds\"):\n",
    "          if trn_ds[i][j][1] == 1:\n",
    "               Ngarb += 1\n",
    "\n",
    "          if trn_ds[i][j][1] == 0:\n",
    "               Nnongarb += 1\n",
    "\n",
    "     for j in notebook.tnrange(52000, desc=\"val_ds\"):\n",
    "          if val_ds[i][j][1] == 1:\n",
    "               Ngarb += 1\n",
    "\n",
    "          if val_ds[i][j][1] == 0:\n",
    "               Nnongarb += 1\n",
    "\n",
    "print(Ngarb)\n",
    "print(Nnongarb)"
   ]
  },
  {
   "cell_type": "markdown",
   "id": "d413a831-c3d4-42b9-ae1a-1824a3eea72d",
   "metadata": {},
   "source": [
    "We have 260.000 patches and with a batch size of 100 this gives us 2.600 batch iterations for 1 epoch. Each epoch takes 1.700 secs to complete, so if we run 60 of them it would take 1.700 minutes = 28 hours to complete. We subdivide the 60 epochs into 5 folds of 12 epochs each."
   ]
  },
  {
   "cell_type": "code",
   "execution_count": 13,
   "id": "9c87faa1-0e42-480f-b791-ed9ea0cd32cd",
   "metadata": {},
   "outputs": [
    {
     "name": "stdout",
     "output_type": "stream",
     "text": [
      "EPOCH: 1.000\ttrn_loss: 0.311\ttrn_acc: 0.867\tval_loss: 0.211\tval_acc: 0.915\t(5133.71s - 302888.77s remaining)\n",
      "EPOCH: 2.000\ttrn_loss: 0.216\ttrn_acc: 0.912\tval_loss: 0.144\tval_acc: 0.946\t(6507.47s - 188716.69s remaining)\n",
      "EPOCH: 3.000\ttrn_loss: 0.171\ttrn_acc: 0.933\tval_loss: 0.120\tval_acc: 0.959\t(7785.39s - 147922.36s remaining)\n",
      "EPOCH: 4.000\ttrn_loss: 0.157\ttrn_acc: 0.939\tval_loss: 0.109\tval_acc: 0.963\t(9021.61s - 126302.53s remaining)\n",
      "EPOCH: 5.000\ttrn_loss: 0.146\ttrn_acc: 0.944\tval_loss: 0.104\tval_acc: 0.964\t(10257.19s - 112829.07s remaining)\n",
      "EPOCH: 6.000\ttrn_loss: 0.143\ttrn_acc: 0.945\tval_loss: 0.102\tval_acc: 0.965\t(11501.77s - 103515.96s remaining)\n",
      "EPOCH: 7.000\ttrn_loss: 0.140\ttrn_acc: 0.946\tval_loss: 0.100\tval_acc: 0.966\t(12756.89s - 96587.87s remaining)\n",
      "EPOCH: 8.000\ttrn_loss: 0.140\ttrn_acc: 0.946\tval_loss: 0.100\tval_acc: 0.966\t(14017.93s - 91116.52s remaining)\n",
      "EPOCH: 9.000\ttrn_loss: 0.140\ttrn_acc: 0.947\tval_loss: 0.099\tval_acc: 0.967\t(15270.15s - 86530.85s remaining)\n",
      "EPOCH: 10.000\ttrn_loss: 0.139\ttrn_acc: 0.947\tval_loss: 0.099\tval_acc: 0.967\t(16534.80s - 82673.98s remaining)\n",
      "EPOCH: 11.000\ttrn_loss: 0.138\ttrn_acc: 0.947\tval_loss: 0.099\tval_acc: 0.966\t(17837.69s - 79458.78s remaining)\n",
      "EPOCH: 12.000\ttrn_loss: 0.139\ttrn_acc: 0.947\tval_loss: 0.099\tval_acc: 0.966\t(19388.83s - 77555.30s remaining)\n",
      "EPOCH: 1.000\ttrn_loss: 0.226\ttrn_acc: 0.906\tval_loss: 0.150\tval_acc: 0.942\t(20722.30s - 1222615.50s remaining)\n",
      "EPOCH: 2.000\ttrn_loss: 0.178\ttrn_acc: 0.929\tval_loss: 0.117\tval_acc: 0.958\t(22023.44s - 638679.84s remaining)\n",
      "EPOCH: 3.000\ttrn_loss: 0.156\ttrn_acc: 0.939\tval_loss: 0.105\tval_acc: 0.964\t(23443.47s - 445425.90s remaining)\n",
      "EPOCH: 4.000\ttrn_loss: 0.149\ttrn_acc: 0.942\tval_loss: 0.100\tval_acc: 0.966\t(24897.31s - 348562.29s remaining)\n",
      "EPOCH: 5.000\ttrn_loss: 0.144\ttrn_acc: 0.945\tval_loss: 0.097\tval_acc: 0.967\t(26275.92s - 289035.17s remaining)\n",
      "EPOCH: 6.000\ttrn_loss: 0.142\ttrn_acc: 0.945\tval_loss: 0.096\tval_acc: 0.968\t(27682.89s - 249146.04s remaining)\n",
      "EPOCH: 7.000\ttrn_loss: 0.141\ttrn_acc: 0.946\tval_loss: 0.095\tval_acc: 0.968\t(29083.85s - 220206.30s remaining)\n",
      "EPOCH: 8.000\ttrn_loss: 0.140\ttrn_acc: 0.946\tval_loss: 0.095\tval_acc: 0.968\t(30485.93s - 198158.57s remaining)\n",
      "EPOCH: 9.000\ttrn_loss: 0.140\ttrn_acc: 0.947\tval_loss: 0.094\tval_acc: 0.968\t(31875.21s - 180626.21s remaining)\n",
      "EPOCH: 10.000\ttrn_loss: 0.140\ttrn_acc: 0.946\tval_loss: 0.094\tval_acc: 0.968\t(33329.93s - 166649.67s remaining)\n",
      "EPOCH: 11.000\ttrn_loss: 0.138\ttrn_acc: 0.947\tval_loss: 0.094\tval_acc: 0.968\t(34730.81s - 154709.99s remaining)\n",
      "EPOCH: 12.000\ttrn_loss: 0.140\ttrn_acc: 0.947\tval_loss: 0.094\tval_acc: 0.968\t(36138.54s - 144554.16s remaining)\n",
      "EPOCH: 1.000\ttrn_loss: 0.198\ttrn_acc: 0.920\tval_loss: 0.130\tval_acc: 0.952\t(37550.88s - 2215502.17s remaining)\n",
      "EPOCH: 2.000\ttrn_loss: 0.166\ttrn_acc: 0.935\tval_loss: 0.108\tval_acc: 0.963\t(38951.05s - 1129580.43s remaining)\n",
      "EPOCH: 3.000\ttrn_loss: 0.151\ttrn_acc: 0.941\tval_loss: 0.100\tval_acc: 0.967\t(40403.96s - 767675.17s remaining)\n",
      "EPOCH: 4.000\ttrn_loss: 0.146\ttrn_acc: 0.944\tval_loss: 0.096\tval_acc: 0.968\t(41764.36s - 584701.07s remaining)\n",
      "EPOCH: 5.000\ttrn_loss: 0.143\ttrn_acc: 0.945\tval_loss: 0.095\tval_acc: 0.969\t(43110.71s - 474217.83s remaining)\n",
      "EPOCH: 6.000\ttrn_loss: 0.142\ttrn_acc: 0.946\tval_loss: 0.094\tval_acc: 0.969\t(44488.60s - 400397.43s remaining)\n",
      "EPOCH: 7.000\ttrn_loss: 0.141\ttrn_acc: 0.946\tval_loss: 0.093\tval_acc: 0.969\t(45890.78s - 347458.79s remaining)\n",
      "EPOCH: 8.000\ttrn_loss: 0.140\ttrn_acc: 0.946\tval_loss: 0.093\tval_acc: 0.969\t(47228.24s - 306983.56s remaining)\n",
      "EPOCH: 9.000\ttrn_loss: 0.140\ttrn_acc: 0.946\tval_loss: 0.093\tval_acc: 0.969\t(48539.76s - 275058.66s remaining)\n",
      "EPOCH: 10.000\ttrn_loss: 0.141\ttrn_acc: 0.946\tval_loss: 0.093\tval_acc: 0.969\t(49841.50s - 249207.50s remaining)\n",
      "EPOCH: 11.000\ttrn_loss: 0.139\ttrn_acc: 0.947\tval_loss: 0.093\tval_acc: 0.969\t(51129.51s - 227758.72s remaining)\n",
      "EPOCH: 12.000\ttrn_loss: 0.140\ttrn_acc: 0.947\tval_loss: 0.093\tval_acc: 0.969\t(52415.98s - 209663.93s remaining)\n",
      "EPOCH: 1.000\ttrn_loss: 0.183\ttrn_acc: 0.926\tval_loss: 0.120\tval_acc: 0.957\t(53694.20s - 3167957.55s remaining)\n",
      "EPOCH: 2.000\ttrn_loss: 0.159\ttrn_acc: 0.938\tval_loss: 0.104\tval_acc: 0.965\t(54969.88s - 1594126.60s remaining)\n",
      "EPOCH: 3.000\ttrn_loss: 0.149\ttrn_acc: 0.942\tval_loss: 0.098\tval_acc: 0.968\t(56241.93s - 1068596.73s remaining)\n",
      "EPOCH: 4.000\ttrn_loss: 0.145\ttrn_acc: 0.944\tval_loss: 0.095\tval_acc: 0.969\t(57513.16s - 805184.17s remaining)\n",
      "EPOCH: 5.000\ttrn_loss: 0.143\ttrn_acc: 0.945\tval_loss: 0.094\tval_acc: 0.969\t(58780.11s - 646581.24s remaining)\n",
      "EPOCH: 6.000\ttrn_loss: 0.141\ttrn_acc: 0.946\tval_loss: 0.093\tval_acc: 0.969\t(60045.35s - 540408.15s remaining)\n",
      "EPOCH: 7.000\ttrn_loss: 0.141\ttrn_acc: 0.946\tval_loss: 0.092\tval_acc: 0.970\t(61309.20s - 464198.20s remaining)\n",
      "EPOCH: 8.000\ttrn_loss: 0.141\ttrn_acc: 0.946\tval_loss: 0.092\tval_acc: 0.970\t(62559.41s - 406636.16s remaining)\n",
      "EPOCH: 9.000\ttrn_loss: 0.140\ttrn_acc: 0.946\tval_loss: 0.092\tval_acc: 0.970\t(63808.14s - 361579.45s remaining)\n",
      "EPOCH: 10.000\ttrn_loss: 0.141\ttrn_acc: 0.946\tval_loss: 0.092\tval_acc: 0.970\t(65055.75s - 325278.73s remaining)\n",
      "EPOCH: 11.000\ttrn_loss: 0.140\ttrn_acc: 0.947\tval_loss: 0.092\tval_acc: 0.970\t(66306.41s - 295364.90s remaining)\n",
      "EPOCH: 12.000\ttrn_loss: 0.140\ttrn_acc: 0.946\tval_loss: 0.092\tval_acc: 0.970\t(67552.19s - 270208.75s remaining)\n",
      "EPOCH: 1.000\ttrn_loss: 0.175\ttrn_acc: 0.930\tval_loss: 0.114\tval_acc: 0.959\t(68785.96s - 4058371.69s remaining)\n",
      "EPOCH: 2.000\ttrn_loss: 0.156\ttrn_acc: 0.940\tval_loss: 0.101\tval_acc: 0.966\t(70027.03s - 2030783.94s remaining)\n",
      "EPOCH: 3.000\ttrn_loss: 0.147\ttrn_acc: 0.943\tval_loss: 0.096\tval_acc: 0.968\t(71261.67s - 1353971.69s remaining)\n",
      "EPOCH: 4.000\ttrn_loss: 0.144\ttrn_acc: 0.945\tval_loss: 0.094\tval_acc: 0.969\t(72488.69s - 1014841.65s remaining)\n",
      "EPOCH: 5.000\ttrn_loss: 0.142\ttrn_acc: 0.945\tval_loss: 0.093\tval_acc: 0.969\t(73717.90s - 810896.89s remaining)\n",
      "EPOCH: 6.000\ttrn_loss: 0.141\ttrn_acc: 0.946\tval_loss: 0.092\tval_acc: 0.970\t(74965.18s - 674686.62s remaining)\n",
      "EPOCH: 7.000\ttrn_loss: 0.141\ttrn_acc: 0.946\tval_loss: 0.092\tval_acc: 0.970\t(76191.81s - 576880.82s remaining)\n",
      "EPOCH: 8.000\ttrn_loss: 0.141\ttrn_acc: 0.946\tval_loss: 0.092\tval_acc: 0.970\t(77417.55s - 503214.06s remaining)\n",
      "EPOCH: 9.000\ttrn_loss: 0.141\ttrn_acc: 0.946\tval_loss: 0.092\tval_acc: 0.970\t(78651.08s - 445689.44s remaining)\n",
      "EPOCH: 10.000\ttrn_loss: 0.141\ttrn_acc: 0.946\tval_loss: 0.092\tval_acc: 0.970\t(79877.03s - 399385.14s remaining)\n",
      "EPOCH: 11.000\ttrn_loss: 0.140\ttrn_acc: 0.946\tval_loss: 0.092\tval_acc: 0.970\t(81091.86s - 361227.39s remaining)\n",
      "EPOCH: 12.000\ttrn_loss: 0.140\ttrn_acc: 0.946\tval_loss: 0.092\tval_acc: 0.970\t(82345.21s - 329380.84s remaining)\n",
      "Training complete\n"
     ]
    }
   ],
   "source": [
    "for fold in range(N_folds):\n",
    "    for ex in range(n_epochs):\n",
    "        N = len(trn_dl[fold])\n",
    "        train_epoch_losses = []\n",
    "        for bx, data in enumerate(trn_dl[fold]):\n",
    "            loss, acc = train_batch(alexnet, data, optimizer, criterion)\n",
    "            train_epoch_losses.append(loss) \n",
    "            log.record(ex + (bx + 1)/N, trn_loss=loss, trn_acc=acc, end=\"\\r\")\n",
    "            \n",
    "        N = len(val_dl[fold])\n",
    "        val_epoch_losses = []\n",
    "        for bx, data in enumerate(val_dl[fold]):\n",
    "            loss, acc = validate_batch(alexnet, data, criterion)\n",
    "            val_epoch_losses.append(loss) \n",
    "            log.record(ex + (bx + 1)/N, val_loss=loss, val_acc=acc, end='\\r')\n",
    "  \n",
    "        torch.save(alexnet, DATA_PATH + \"alexnet_\" + str(fold) + \"_\" + str(ex) + \".pth\")\n",
    "        torch.save(train_epoch_losses, DATA_PATH + \"train_epoch_losses_\" + str(fold) + \"_\" + str(ex) + \".pt\")\n",
    "        torch.save(val_epoch_losses, DATA_PATH + \"val_epoch_losses_\" + str(fold) + \"_\" + str(ex) + \".pt\")\n",
    "\n",
    "        scheduler.step()\n",
    "        log.report_avgs(ex+1)\n",
    "   \n",
    "print(\"Training complete\")"
   ]
  },
  {
   "cell_type": "code",
   "execution_count": null,
   "id": "24c977fd-db45-4999-89bc-91564af1e3b6",
   "metadata": {},
   "outputs": [],
   "source": []
  }
 ],
 "metadata": {
  "kernelspec": {
   "display_name": "Python 3",
   "language": "python",
   "name": "python3"
  },
  "language_info": {
   "codemirror_mode": {
    "name": "ipython",
    "version": 3
   },
   "file_extension": ".py",
   "mimetype": "text/x-python",
   "name": "python",
   "nbconvert_exporter": "python",
   "pygments_lexer": "ipython3",
   "version": "3.8.8"
  }
 },
 "nbformat": 4,
 "nbformat_minor": 5
}

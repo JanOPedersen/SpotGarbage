{
 "metadata": {
  "language_info": {
   "codemirror_mode": {
    "name": "ipython",
    "version": 3
   },
   "file_extension": ".py",
   "mimetype": "text/x-python",
   "name": "python",
   "nbconvert_exporter": "python",
   "pygments_lexer": "ipython3",
   "version": "3.8.8"
  },
  "orig_nbformat": 4,
  "kernelspec": {
   "name": "python3",
   "display_name": "Python 3.8.8 64-bit ('base': conda)"
  },
  "interpreter": {
   "hash": "e6d389e96998f597cee0fc4b39534997436beb1ddafc62a05299fd5c50d2177c"
  }
 },
 "nbformat": 4,
 "nbformat_minor": 2,
 "cells": [
  {
   "source": [
    "In this notebook we do data preparation. \n",
    "\n",
    "We start by installing the necessary packages"
   ],
   "cell_type": "markdown",
   "metadata": {}
  },
  {
   "cell_type": "code",
   "execution_count": 1,
   "metadata": {},
   "outputs": [
    {
     "output_type": "stream",
     "name": "stderr",
     "text": [
      "2021-06-28 07:44:36.296 | WARNING  | torch_snippets.torch_loader:<module>:233 - Not importing Lightning Report\n",
      "2021-06-28 07:44:37.669 | WARNING  | torch_snippets:<module>:13 - sklearn is not found. Skipping relevant imports from submodule `sklegos`\n",
      "Exception: No module named 'sklego'\n"
     ]
    }
   ],
   "source": [
    "import os\n",
    "from torch_snippets import *\n",
    "from torchvision import transforms\n",
    "from sklearn.model_selection import train_test_split\n",
    "from pathlib import PurePath\n",
    "import imgaug.augmenters as iaa\n",
    "import numpy as np\n",
    "from scipy import interpolate\n",
    "from math import cos, sin\n",
    "import matplotlib\n",
    "from matplotlib.patches import Polygon\n",
    "from tqdm import tnrange,notebook\n",
    "import cv2 as cv2\n",
    "from glob import glob\n",
    "import csv\n",
    "from PoissonDiskSampling import PoissonDiskSampling\n",
    "from cropRotatedSquare import cropRotatedSquare\n",
    "import random \n",
    "device = 'cuda' if torch.cuda.is_available() else 'cpu'"
   ]
  },
  {
   "source": [
    "We start by reading all the GINI files and building a map from file name to file location. We will need this map so that we can augment the 'garbage-queried-images.csv' file with file locations in addition to the bounding boxes it originally contained. Both the path and the folder name just beneath the actual image file is included. The folder name gives a kind of class label. The boolean at the end of each list tells if the image is garbage or non-garbage"
   ],
   "cell_type": "markdown",
   "metadata": {}
  },
  {
   "cell_type": "code",
   "execution_count": null,
   "metadata": {},
   "outputs": [],
   "source": [
    "name2path = {}\n",
    "\n",
    "paths = [y for x in os.walk('spotgarbage-GINI-master\\spotgarbage\\garbage-queried-images') for y in glob(os.path.join(x[0], '*.*'))]\n",
    "for path in paths:\n",
    "    pure = PurePath(path)\n",
    "    name2path[pure.name] = [path,pure.parts[-2],True]\n",
    "\n",
    "paths = [y for x in os.walk('spotgarbage-GINI-master\\spotgarbage\\\\non-garbage-queried-images') for y in glob(os.path.join(x[0], '*.*'))]\n",
    "for path in paths:\n",
    "    pure = PurePath(path)\n",
    "    name2path[pure.name] = [path,pure.parts[-2],False] "
   ]
  },
  {
   "cell_type": "code",
   "execution_count": null,
   "metadata": {},
   "outputs": [],
   "source": [
    "name2path.keys()"
   ]
  },
  {
   "source": [
    "We now read the 'garbage-queried-images.csv' file and build a similar dictionary to the class label and bounding boxes. We skip the first row as this is where the column names are. There are no bounding boxes for non-garbage images, so we just put in None there"
   ],
   "cell_type": "markdown",
   "metadata": {}
  },
  {
   "cell_type": "code",
   "execution_count": null,
   "metadata": {},
   "outputs": [],
   "source": [
    "name2bounding = {}\n",
    "\n",
    "with open('spotgarbage-GINI-master\\spotgarbage\\garbage-queried-images.csv', newline='') as csvfile:\n",
    "    reader = csv.reader(csvfile, delimiter=',')\n",
    "    next(reader)\n",
    "    for row in reader:\n",
    "        if row[3] != '' and row[4] != '' and row[5] != '' and row[6] != '':\n",
    "            name2bounding[row[0]] = [row[1],row[3],row[4],row[5],row[6],True]\n",
    "\n",
    "with open('spotgarbage-GINI-master\\spotgarbage\\\\non-garbage-queried-images.csv', newline='') as csvfile:\n",
    "    reader = csv.reader(csvfile, delimiter=',')\n",
    "    next(reader)\n",
    "    for row in reader:\n",
    "        name2bounding[row[0]] = [row[1],None,None,None,None,False]"
   ]
  },
  {
   "source": [
    "Now we will join name2path and name2bounding into one dictionary and save as CSV for later use."
   ],
   "cell_type": "markdown",
   "metadata": {}
  },
  {
   "cell_type": "code",
   "execution_count": null,
   "metadata": {},
   "outputs": [],
   "source": [
    "name2info = {}\n",
    "for fileName in name2path:\n",
    "    if fileName in name2bounding:\n",
    "        name2info[fileName] = name2path[fileName] + name2bounding[fileName]"
   ]
  },
  {
   "source": [
    "We store our new dictionary in a CSV file"
   ],
   "cell_type": "markdown",
   "metadata": {}
  },
  {
   "cell_type": "code",
   "execution_count": null,
   "metadata": {},
   "outputs": [],
   "source": [
    "with open('spotgarbage-GINI-master\\spotgarbage\\image-meta-data.csv', 'w', newline=\"\") as csvfile:\n",
    "    writer = csv.writer(csvfile, delimiter=',', quotechar='\"', quoting=csv.QUOTE_MINIMAL)\n",
    "    writer.writerow(['image','path','class','is Garbage','class','bounding box','is Garbage'])\n",
    "    for fileName in name2info:\n",
    "        writer.writerow([fileName] + name2info[fileName])"
   ]
  },
  {
   "source": [
    "And lets read the Dictionary again, so we can use it for making the DataLoader"
   ],
   "cell_type": "markdown",
   "metadata": {}
  },
  {
   "cell_type": "code",
   "execution_count": null,
   "metadata": {},
   "outputs": [],
   "source": [
    "name2info = {}\n",
    "with open('spotgarbage-GINI-master\\spotgarbage\\image-meta-data.csv', newline='') as csvfile:\n",
    "    reader = csv.reader(csvfile, delimiter=',', quotechar='\"')\n",
    "    next(reader)\n",
    "    for row in reader:\n",
    "        name2info[row[0]] = row[1:]"
   ]
  },
  {
   "source": [
    "Now we have enough structure to create our Dataset"
   ],
   "cell_type": "markdown",
   "metadata": {}
  },
  {
   "cell_type": "code",
   "execution_count": null,
   "metadata": {},
   "outputs": [],
   "source": [
    "class GINIdata(Dataset):\n",
    "    def __init__(self, aug=None):\n",
    "        self.name2info = []\n",
    "        with open('spotgarbage-GINI-master\\spotgarbage\\image-meta-data.csv', newline='') as csvfile:\n",
    "            reader = csv.reader(csvfile, delimiter=',', quotechar='\"')\n",
    "            next(reader)\n",
    "            for row in reader:\n",
    "                name = row[0]\n",
    "                if  PurePath(name).suffix != '.gif':\n",
    "                    self.name2info.append(row)\n",
    "        self.aug = aug\n",
    "    def __len__(self):\n",
    "        return len(self.name2info)\n",
    "    def __getitem__(self, ix):\n",
    "        name         = self.name2info[ix][0]\n",
    "        path         = self.name2info[ix][1]\n",
    "        garbageClass = self.name2info[ix][2]\n",
    "        isGarbage    = (self.name2info[ix][3] == 'True')\n",
    "        boundingBox  = [self.name2info[ix][5],self.name2info[ix][6],self.name2info[ix][7],self.name2info[ix][8]]\n",
    "        image        = read(path,1)\n",
    "        return image, boundingBox, garbageClass, isGarbage, name\n",
    "    def choose(self): return self[randint(len(self))]"
   ]
  },
  {
   "cell_type": "code",
   "execution_count": null,
   "metadata": {},
   "outputs": [],
   "source": [
    "gini = GINIdata()"
   ]
  },
  {
   "source": [
    "Now that we have easy access to our images we will generate the patches as described in the paper. The method is as follows:\n",
    "\n",
    "a) Generate some Poisson disk samples with stride 9.1% of smaller image dimension\n",
    "\n",
    "b) For each sample (a square with length 10%, 20%, 40% or 70% smaller image dimension) generate a random rotation\n",
    "\n",
    "c) Find out if our sample fits into the image when the center of sample is the Poisson random disk center\n",
    "\n",
    "d) If it does not fit shift it so that it just does\n",
    "\n",
    "We create a utility function that takes an image dimensions (h,w), rotation angle (a), Poisson disk centre (x,y) and patch size (d) as inputs and generates an output that is modified if it does not fit into the image so that it just fits"
   ],
   "cell_type": "markdown",
   "metadata": {}
  },
  {
   "cell_type": "code",
   "execution_count": null,
   "metadata": {},
   "outputs": [],
   "source": [
    "def fitPatch(h, w, a, y, x, d):\n",
    "    #print(h, w, a, y, x, d)\n",
    "\n",
    "    # Find bounding box size\n",
    "    d1 = d * (np.cos(a) + np.sin(a))\n",
    "    \n",
    "    # correct x and y if needed\n",
    "    x = d1/2     if x - d1/2 < 0 else x\n",
    "    x = w - d1/2 if x + d1/2 > w else x\n",
    "    y = d1/2     if y - d1/2 < 0 else y\n",
    "    y = h - d1/2 if y + d1/2 > h else y\n",
    "\n",
    "    return x, y"
   ]
  },
  {
   "source": [
    "TODO: check that we use the boundingBox variable below and not the image itself, unless there is no bounding box"
   ],
   "cell_type": "markdown",
   "metadata": {}
  },
  {
   "cell_type": "code",
   "execution_count": null,
   "metadata": {},
   "outputs": [],
   "source": [
    "if not os.path.exists('spotgarbage-GINI-master\\spotgarbage\\patches'):\n",
    "    os.mkdir(\"spotgarbage-GINI-master\\spotgarbage\\patches\")\n",
    "    # We have to seed both the numpy random generator and the one in the random module\n",
    "    np.random.seed(42)\n",
    "    random.seed(42)\n",
    "    patch_size_factors0 = [0.1, 0.2, 0.4, 0.7] # patch size in proportion to minimal image dimension\n",
    "    default_patch_num = [75, 19, 4, 2] # default number of patches for each size above\n",
    "    patch_size_factors = [] # for each patch, its relative size\n",
    "    N = 4 # number of random rotations per patch\n",
    "    for j in range(len(patch_size_factors0)):\n",
    "        patch_size_factors = patch_size_factors + [patch_size_factors0[j] for _ in range(default_patch_num[j])] \n",
    "   \n",
    "    for i in notebook.tnrange(len(gini), desc='patches'):\n",
    "        #if i == 1:\n",
    "        #    break\n",
    "\n",
    "        image, boundingBox, garbageClass, isGarbage, name = gini[i]\n",
    "\n",
    "        # If the image is a garbage image we will need to crop it to its bounding box\n",
    "        if isGarbage:\n",
    "            boundingBox = [int(x) for x in boundingBox]\n",
    "            height, width = boundingBox[3] - boundingBox[1], boundingBox[2] - boundingBox[0]\n",
    "            image = image[boundingBox[1]:boundingBox[3], boundingBox[0]:boundingBox[2]] # crop image\n",
    "        else:\n",
    "            height, width = image.shape[0],image.shape[1]\n",
    "\n",
    "        smaller_dim = min(height, width)\n",
    "        patch_sizes = [x * smaller_dim for x in patch_size_factors] # for each patch, its absolute size\n",
    "        samples = PoissonDiskSampling(width, height, smaller_dim * 0.091)\n",
    "        nof_samples = min(100,len(samples))\n",
    "        patch_sizes = patch_sizes[0:nof_samples] \n",
    "        patch_num = default_patch_num # actual number of patches for each size in patch_size_factors0\n",
    "        patch_num[0] = default_patch_num[0] - (100 - nof_samples) # reduce the number of the smallest square patches\n",
    "        samples = random.sample(samples,nof_samples)\n",
    "        randomRotations = [random.uniform(0.0, np.pi / 2) for _ in range(4 * nof_samples)]\n",
    "        for j in range(nof_samples):\n",
    "            samples[j] = fitPatch(height, width, randomRotations[j], samples[j][1], samples[j][0], patch_sizes[j])\n",
    "\n",
    "        # calculate the corner points of each patch square and crop the image (OpenCV operations)\n",
    "        #rotatedLst = []\n",
    "        for j in range(N * nof_samples):\n",
    "            x, y = samples[j % N]\n",
    "            theta = randomRotations[j]\n",
    "            rot = -np.array([[cos(theta), -sin(theta)], [sin(theta), cos(theta)]])\n",
    "            corners = [\n",
    "                [  patch_sizes[j % N]/2,   patch_sizes[j % N]/2],\n",
    "                [  patch_sizes[j % N]/2, - patch_sizes[j % N]/2],\n",
    "                [- patch_sizes[j % N]/2,   patch_sizes[j % N]/2],\n",
    "                [- patch_sizes[j % N]/2, - patch_sizes[j % N]/2]]\n",
    "\n",
    "            rotated = [[np.dot(rot, r) + [x,y]] for r in corners]\n",
    "            rotated = np.array([[[int(c[0]),int(c[1])] for c in row] for row in rotated])\n",
    "\n",
    "            # The rotated array contains the corners of the cropping square, so now we\n",
    "            # do the cropping\n",
    "            cropped = cropRotatedSquare(image, rotated)\n",
    "            write(cropped,f'spotgarbage-GINI-master/spotgarbage/patches/{name}_{j}.png')\n",
    "\n",
    "            #rotatedLst.append(rotated)\n",
    "\n",
    "            #if j == 10:\n",
    "            #    break\n",
    "\n",
    "#fig, ax = plt.subplots()\n",
    "#x1,x2,x3,x4 = rotatedLst[1]\n",
    "#polygon = Polygon([x1[0],x2[0],x4[0],x3[0]], True, fill=False, ec ='r',)\n",
    "#plt.imshow(image)\n",
    "#ax.add_patch( polygon )\n",
    "\n",
    "#plt.title('big_vertical_text')\n",
    "#plt.show()\n",
    "\n",
    "#plt.imshow(cropped)\n",
    "#plt.title('cropped')\n",
    "#plt.show()\n",
    "      \n",
    "#print(theta)\n",
    "print('done')"
   ]
  },
  {
   "source": [
    "Let us visualize our patches so we can get an understanding of both the distribution of Poisson disks and validate that they are all within the image boundary. We calculate the rectangles both directly from the angles and from the polygon vectors of 4 corner points that are generated inside the loop for patch generation."
   ],
   "cell_type": "markdown",
   "metadata": {}
  },
  {
   "cell_type": "code",
   "execution_count": null,
   "metadata": {},
   "outputs": [],
   "source": [
    "from matplotlib.patches import Rectangle\n",
    "showSamples = np.transpose(np.array(samples))\n",
    "fig, ax = plt.subplots()\n",
    "#plt.plot(showSamples[0], showSamples[1], 'o')\n",
    "\n",
    "rect_img =  Rectangle((0, 0),\n",
    "                        width, height,\n",
    "                        fc ='none', \n",
    "                        ec ='r',\n",
    "                        lw = 1)\n",
    "\n",
    "for i in range(len(samples)):\n",
    "    x, y = samples[i]\n",
    "\n",
    "    t_start = ax.transData\n",
    "    t2 = matplotlib.transforms.Affine2D().rotate_deg_around(x,y, randomRotations[i] * 180 / np.pi)\n",
    "    t =  t2 + t_start \n",
    "\n",
    "    rect =  Rectangle((x - patch_sizes[i]/2, y - patch_sizes[i]/2),\n",
    "                        patch_sizes[i], patch_sizes[i],\n",
    "                        fc ='none', \n",
    "                        ec ='g',\n",
    "                        lw = 1, transform = t)\n",
    "\n",
    "    ax.add_patch( rect )\n",
    "\n",
    "    if i == 0:\n",
    "        break\n",
    "   \n",
    "ax.add_patch( rect_img )\n",
    "ax.axis('equal')\n",
    "plt.xlim([-width/10, width + width/10])\n",
    "plt.ylim([-height/10, height + height/10])\n",
    "\n",
    "plt.show()"
   ]
  },
  {
   "cell_type": "code",
   "execution_count": null,
   "metadata": {},
   "outputs": [],
   "source": [
    "from matplotlib.patches import Polygon\n",
    "#showSamples = np.transpose(np.array(samples))\n",
    "fig, ax = plt.subplots()\n",
    "#plt.plot(showSamples[0], showSamples[1], 'o')\n",
    "\n",
    "rect_img =  Rectangle((0, 0),\n",
    "                        width, height,\n",
    "                        fc ='none', \n",
    "                        ec ='r',\n",
    "                        lw = 1)\n",
    "\n",
    "for i in range(len(samples)):\n",
    "    x1,x2,x3,x4 = rotatedLst[i]\n",
    "    polygon = Polygon([x1[0],x2[0],x4[0],x3[0]], True, fill=False)\n",
    "    ax.add_patch( polygon )\n",
    "\n",
    "    if i == 0:\n",
    "        break\n",
    "\n",
    "ax.add_patch( rect_img )\n",
    "ax.axis('equal')\n",
    "plt.xlim([-width/10, width + width/10])\n",
    "plt.ylim([-height/10, height + height/10])\n",
    "\n",
    "plt.show()"
   ]
  },
  {
   "source": [
    "The file names we created when generating the patch files got wrong, so let's rename them."
   ],
   "cell_type": "markdown",
   "metadata": {}
  },
  {
   "cell_type": "code",
   "execution_count": null,
   "metadata": {},
   "outputs": [],
   "source": [
    "with os.scandir('spotgarbage-GINI-master\\spotgarbage\\patches') as it:\n",
    "    for entry in it:\n",
    "        name = str(PurePath(entry.name))\n",
    "        parts = str(name).split(sep = '.')\n",
    "        if len(parts) == 3:\n",
    "            newName = parts[0] + parts[1][3:] + \".\" + parts[2]\n",
    "            os.rename('spotgarbage-GINI-master\\spotgarbage\\patches\\\\' + name,'spotgarbage-GINI-master\\spotgarbage\\patches\\\\' + newName)\n",
    "       \n",
    "print('done')"
   ]
  },
  {
   "source": [
    "In the above step more than 745.000 patch files where produced. We would like to delete randomly 245.000 of them leaving some 500.000 remaining. These should be divided into 250.000 garbage and 250.000 non-garbage patches. First lets count how many of each type we have."
   ],
   "cell_type": "markdown",
   "metadata": {}
  },
  {
   "cell_type": "code",
   "execution_count": 2,
   "metadata": {},
   "outputs": [
    {
     "output_type": "display_data",
     "data": {
      "text/plain": "\u001b[1;36m907\u001b[0m\n",
      "text/html": "<pre style=\"white-space:pre;overflow-x:auto;line-height:normal;font-family:Menlo,'DejaVu Sans Mono',consolas,'Courier New',monospace\"><span style=\"color: #008080; text-decoration-color: #008080; font-weight: bold\">907</span>\n</pre>\n"
     },
     "metadata": {}
    },
    {
     "output_type": "display_data",
     "data": {
      "text/plain": "\u001b[1;36m1602\u001b[0m\n",
      "text/html": "<pre style=\"white-space:pre;overflow-x:auto;line-height:normal;font-family:Menlo,'DejaVu Sans Mono',consolas,'Courier New',monospace\"><span style=\"color: #008080; text-decoration-color: #008080; font-weight: bold\">1602</span>\n</pre>\n"
     },
     "metadata": {}
    }
   ],
   "source": [
    "GarbageNames = set()\n",
    "paths = [y for x in os.walk('spotgarbage-GINI-master\\spotgarbage\\garbage-queried-images') for y in glob(os.path.join(x[0], '*.*'))]\n",
    "for path in paths:\n",
    "    pure = PurePath(path)\n",
    "    GarbageNames.add(str(pure.name)[:-4])\n",
    "\n",
    "NonGarbageNames = set()\n",
    "paths = [y for x in os.walk('spotgarbage-GINI-master\\spotgarbage\\\\non-garbage-queried-images') for y in glob(os.path.join(x[0], '*.*'))]\n",
    "for path in paths:\n",
    "    pure = PurePath(path)\n",
    "    NonGarbageNames.add(str(pure.name)[:-4])\n",
    "\n",
    "print(len(GarbageNames))\n",
    "print(len(NonGarbageNames))"
   ]
  },
  {
   "cell_type": "code",
   "execution_count": 3,
   "metadata": {},
   "outputs": [
    {
     "output_type": "display_data",
     "data": {
      "text/plain": "\u001b[1;36m130000\u001b[0m\n",
      "text/html": "<pre style=\"white-space:pre;overflow-x:auto;line-height:normal;font-family:Menlo,'DejaVu Sans Mono',consolas,'Courier New',monospace\"><span style=\"color: #008080; text-decoration-color: #008080; font-weight: bold\">130000</span>\n</pre>\n"
     },
     "metadata": {}
    },
    {
     "output_type": "display_data",
     "data": {
      "text/plain": "\u001b[1;36m130000\u001b[0m\n",
      "text/html": "<pre style=\"white-space:pre;overflow-x:auto;line-height:normal;font-family:Menlo,'DejaVu Sans Mono',consolas,'Courier New',monospace\"><span style=\"color: #008080; text-decoration-color: #008080; font-weight: bold\">130000</span>\n</pre>\n"
     },
     "metadata": {}
    },
    {
     "output_type": "display_data",
     "data": {
      "text/plain": "\u001b[1;36m130000\u001b[0m\n",
      "text/html": "<pre style=\"white-space:pre;overflow-x:auto;line-height:normal;font-family:Menlo,'DejaVu Sans Mono',consolas,'Courier New',monospace\"><span style=\"color: #008080; text-decoration-color: #008080; font-weight: bold\">130000</span>\n</pre>\n"
     },
     "metadata": {}
    },
    {
     "output_type": "display_data",
     "data": {
      "text/plain": "\u001b[1;36m130000\u001b[0m\n",
      "text/html": "<pre style=\"white-space:pre;overflow-x:auto;line-height:normal;font-family:Menlo,'DejaVu Sans Mono',consolas,'Courier New',monospace\"><span style=\"color: #008080; text-decoration-color: #008080; font-weight: bold\">130000</span>\n</pre>\n"
     },
     "metadata": {}
    }
   ],
   "source": [
    "garbageCounter = 0\n",
    "NonGarbageCounter = 0\n",
    "garbageList = []\n",
    "nonGarbageList = []\n",
    "\n",
    "#i = 0\n",
    "with os.scandir('spotgarbage-GINI-master\\spotgarbage\\patches') as it:\n",
    "    for entry in it:\n",
    "        #i += 1\n",
    "        name = str(PurePath(entry.name))\n",
    "        parts = str(name).split(sep = '_')\n",
    "        if (parts[0]) in GarbageNames:\n",
    "            garbageCounter += 1\n",
    "            garbageList.append(name)\n",
    "        if (parts[0]) in NonGarbageNames:\n",
    "            NonGarbageCounter += 1\n",
    "            nonGarbageList.append(name)\n",
    "        #print(parts[0])\n",
    "        #if i == 10:\n",
    "        #    break\n",
    "\n",
    "print(garbageCounter) # 131272\n",
    "print(NonGarbageCounter) # 604652\n",
    "print(len(garbageList))\n",
    "print(len(nonGarbageList))\n"
   ]
  },
  {
   "cell_type": "code",
   "execution_count": 13,
   "metadata": {},
   "outputs": [
    {
     "output_type": "display_data",
     "data": {
      "text/plain": "\u001b[1;36m474652\u001b[0m\n",
      "text/html": "<pre style=\"white-space:pre;overflow-x:auto;line-height:normal;font-family:Menlo,'DejaVu Sans Mono',consolas,'Courier New',monospace\"><span style=\"color: #008080; text-decoration-color: #008080; font-weight: bold\">474652</span>\n</pre>\n"
     },
     "metadata": {}
    },
    {
     "output_type": "display_data",
     "data": {
      "text/plain": "\u001b[1;36m1272\u001b[0m\n",
      "text/html": "<pre style=\"white-space:pre;overflow-x:auto;line-height:normal;font-family:Menlo,'DejaVu Sans Mono',consolas,'Courier New',monospace\"><span style=\"color: #008080; text-decoration-color: #008080; font-weight: bold\">1272</span>\n</pre>\n"
     },
     "metadata": {}
    },
    {
     "output_type": "display_data",
     "data": {
      "text/plain": "\u001b[1;36m474652\u001b[0m\n",
      "text/html": "<pre style=\"white-space:pre;overflow-x:auto;line-height:normal;font-family:Menlo,'DejaVu Sans Mono',consolas,'Courier New',monospace\"><span style=\"color: #008080; text-decoration-color: #008080; font-weight: bold\">474652</span>\n</pre>\n"
     },
     "metadata": {}
    },
    {
     "output_type": "display_data",
     "data": {
      "text/plain": "\u001b[1;36m1272\u001b[0m\n",
      "text/html": "<pre style=\"white-space:pre;overflow-x:auto;line-height:normal;font-family:Menlo,'DejaVu Sans Mono',consolas,'Courier New',monospace\"><span style=\"color: #008080; text-decoration-color: #008080; font-weight: bold\">1272</span>\n</pre>\n"
     },
     "metadata": {}
    }
   ],
   "source": [
    "deleteNonGarbageList = random.sample(nonGarbageList,len(nonGarbageList) - 130000)\n",
    "deleteGarbageList = random.sample(garbageList,len(garbageList) - 130000)\n",
    "print(len(deleteNonGarbageList))\n",
    "print(len(deleteGarbageList))\n",
    "deleteNonGarbageSet = set(deleteNonGarbageList)\n",
    "deleteGarbageSet = set(deleteGarbageList)\n",
    "print(len(deleteNonGarbageSet))\n",
    "print(len(deleteGarbageSet))"
   ]
  },
  {
   "source": [
    "Now that we have our two lists of items to delete, we carry on with the deleting"
   ],
   "cell_type": "markdown",
   "metadata": {}
  },
  {
   "cell_type": "code",
   "execution_count": 21,
   "metadata": {},
   "outputs": [],
   "source": [
    "#i = 0\n",
    "with os.scandir('spotgarbage-GINI-master\\spotgarbage\\patches') as it:\n",
    "    for entry in it:\n",
    "        #i += 1\n",
    "        name = str(PurePath(entry.name))\n",
    "        \n",
    "        if name in deleteNonGarbageSet:\n",
    "            os.remove('spotgarbage-GINI-master\\spotgarbage\\patches\\\\' + name)\n",
    "\n",
    "        if name in deleteGarbageSet:\n",
    "            os.remove('spotgarbage-GINI-master\\spotgarbage\\patches\\\\' + name)\n",
    "\n",
    "        #if i == 10:\n",
    "        #    break"
   ]
  },
  {
   "source": [
    "Find out if all files are indeed PNG files"
   ],
   "cell_type": "markdown",
   "metadata": {}
  },
  {
   "cell_type": "code",
   "execution_count": 50,
   "metadata": {},
   "outputs": [
    {
     "output_type": "display_data",
     "data": {
      "text/plain": "\u001b[1;36m269460\u001b[0m \u001b[1;36m269460\u001b[0m\n",
      "text/html": "<pre style=\"white-space:pre;overflow-x:auto;line-height:normal;font-family:Menlo,'DejaVu Sans Mono',consolas,'Courier New',monospace\"><span style=\"color: #008080; text-decoration-color: #008080; font-weight: bold\">269460</span> <span style=\"color: #008080; text-decoration-color: #008080; font-weight: bold\">269460</span>\n</pre>\n"
     },
     "metadata": {}
    }
   ],
   "source": [
    "i = 0\n",
    "j = 0\n",
    "with os.scandir('spotgarbage-GINI-master\\spotgarbage\\patches') as it:\n",
    "    for entry in it:\n",
    "        j += 1\n",
    "        name = str(PurePath(entry.name))\n",
    "        if name.endswith(\".png\"):\n",
    "            i += 1\n",
    "\n",
    "print(i,j)"
   ]
  },
  {
   "cell_type": "code",
   "execution_count": 18,
   "metadata": {},
   "outputs": [
    {
     "output_type": "display_data",
     "data": {
      "text/plain": "\u001b[1;36m0\u001b[0m\n",
      "text/html": "<pre style=\"white-space:pre;overflow-x:auto;line-height:normal;font-family:Menlo,'DejaVu Sans Mono',consolas,'Courier New',monospace\"><span style=\"color: #008080; text-decoration-color: #008080; font-weight: bold\">0</span>\n</pre>\n"
     },
     "metadata": {}
    }
   ],
   "source": [
    "i = 0\n",
    "with os.scandir('spotgarbage-GINI-master\\spotgarbage\\patches') as it:\n",
    "    for entry in it:\n",
    "        \n",
    "        name0 = str(PurePath(entry.name))\n",
    "        name = name0.split(sep = '_')[0]\n",
    "        \n",
    "        if not name in patches.NonGarbageNames and not name in patches.GarbageNames:\n",
    "            os.remove('spotgarbage-GINI-master\\spotgarbage\\patches\\\\' + name0)\n",
    "\n",
    "        #if i == 10:\n",
    "        #    break\n",
    "\n",
    "print(i)"
   ]
  },
  {
   "cell_type": "code",
   "execution_count": 51,
   "metadata": {},
   "outputs": [
    {
     "output_type": "display_data",
     "data": {
      "text/plain": "<Figure size 432x288 with 1 Axes>",
      "image/svg+xml": "<?xml version=\"1.0\" encoding=\"utf-8\" standalone=\"no\"?>\r\n<!DOCTYPE svg PUBLIC \"-//W3C//DTD SVG 1.1//EN\"\r\n  \"http://www.w3.org/Graphics/SVG/1.1/DTD/svg11.dtd\">\r\n<!-- Created with matplotlib (https://matplotlib.org/) -->\r\n<svg height=\"251.838401pt\" version=\"1.1\" viewBox=\"0 0 257.9275 251.838401\" width=\"257.9275pt\" xmlns=\"http://www.w3.org/2000/svg\" xmlns:xlink=\"http://www.w3.org/1999/xlink\">\r\n <metadata>\r\n  <rdf:RDF xmlns:cc=\"http://creativecommons.org/ns#\" xmlns:dc=\"http://purl.org/dc/elements/1.1/\" xmlns:rdf=\"http://www.w3.org/1999/02/22-rdf-syntax-ns#\">\r\n   <cc:Work>\r\n    <dc:type rdf:resource=\"http://purl.org/dc/dcmitype/StillImage\"/>\r\n    <dc:date>2021-06-27T11:44:05.788217</dc:date>\r\n    <dc:format>image/svg+xml</dc:format>\r\n    <dc:creator>\r\n     <cc:Agent>\r\n      <dc:title>Matplotlib v3.3.4, https://matplotlib.org/</dc:title>\r\n     </cc:Agent>\r\n    </dc:creator>\r\n   </cc:Work>\r\n  </rdf:RDF>\r\n </metadata>\r\n <defs>\r\n  <style type=\"text/css\">*{stroke-linecap:butt;stroke-linejoin:round;}</style>\r\n </defs>\r\n <g id=\"figure_1\">\r\n  <g id=\"patch_1\">\r\n   <path d=\"M 0 251.838401 \r\nL 257.9275 251.838401 \r\nL 257.9275 0 \r\nL 0 0 \r\nz\r\n\" style=\"fill:none;\"/>\r\n  </g>\r\n  <g id=\"axes_1\">\r\n   <g id=\"patch_2\">\r\n    <path d=\"M 33.2875 227.960276 \r\nL 250.7275 227.960276 \r\nL 250.7275 10.520276 \r\nL 33.2875 10.520276 \r\nz\r\n\" style=\"fill:#ffffff;\"/>\r\n   </g>\r\n   <g clip-path=\"url(#p71e7385fe4)\">\r\n    <image height=\"218\" id=\"imagef6ac1505d9\" transform=\"scale(1 -1)translate(0 -218)\" width=\"218\" x=\"33.2875\" xlink:href=\"data:image/png;base64,\r\niVBORw0KGgoAAAANSUhEUgAAANoAAADaCAYAAADAHVzbAACLzElEQVR4nO2965rbOK41vABSkl2H9Lz3f4/fTqp8kkQS3w8AJOVDpdLds/dMuphHke2yZVniIoCFE4mI4Gv8VuPeDf3pTbY30IM/P3p9+4b+Wx49/tzQWSntsQCi/22/lghEBBCDCBC5PVM/lNy8uH1C5HvAYeHoaM9vfwsRXe1188cAwB//3K/xO4xfmeb/jauudP/f/dsv/qi/Q/RcHyP+9UN+ja/xnzSuUUIwWfi3DCK6K9V+Nr6A9puPT08J17g6FatXwu699tfH47NT9a1/ASDR/fW51HMSscfUvUcg1L7q6pA350LU/irSP29qYw826t4gIpvn/fgC2td4OGxe//S1n49upv+JUW0mOwz1x7o5mf676P7LnzyXHuwOoHsAux5bgOqDLxvtNx5/amrTB9tPj/to8v0pemYjTYjs6FdfQfVYfjx9TLdvbe/bSLf+s9dHpka2AJvHj4Zci2EbXxLtNxt/N5nxaxLs76dSfF6LnQi5ZNt857XE7PTgu+MR8LfsYf1eNHXxWlX85K/4kmhf4xfGR4h7JBh+NvxzIve3TkL97BzkSqrdf2//+vXxK5dfH6skvQXgved6elvLUUSNyi+J9jU+HL9mj/UMxgNb6UM1Ujr/GTUC5OZ411/bpJHYZ3vgVPm2OV4DlauktDl1/77b771LhnSfrWDryBv6clj/fkOu9n923AMZfeqg12969Ly3meRKItkZ+MR9wBw+OuP6GadOOjZVpaW/KN37yVTV3iDsVEX/LNrH/cyvv9fZTx9fEu1r3Iw/HR2yeecnbKaNdLlV27ARKg1sjy2wDalvkqUdizZRI7J9SB2Kq0Tz169YmU4K6kfvLkmb/RfQfrPxn6Oe3IODTfzPkpDGk+tUb+pkPdqDQ20P2qym3p+mp9LbZ3TFy0v3oauv7qj+ngntZOPN+ALabzr+LOD+ujS798mPpNs9KdO/5mKDrkDy2e/v2MQPxWEvua4f3/++dhrXimL/Dh1fQPtNxt8hyX4Ksr/6JZvPP1K3XHWkq3d2E/+n53Gl7n3opOhE1QZb975kK1Fl8+jjpegLaF/jw/HnJdnVUTaTtze+2nvcsuqn8Abk1H92+/eNzPz0SW9oyKsjPWAd7y0Wn/i+L9bxNxg/4/g+Gr+sKv6Z2SIPn+D+JJbt3+ne4zvHujnp6xc6Y6rlv9w7Y/vbg893hllVHXtjrb692WtfEu2/fPw7VskPF+hfso9+dvSfq1ztbZ1TqgLuI2lz5+t6tbMKLPoYbJ8d935K93VfQPvNxl+dMn+PqvhXvu0eKSGN3u+9wD87lL/93gufuVD3FpUHUrP52K4WEnv6BbTfaPx3gewz48qWu5nI2GKyf3D3x1yD7Fr17AF8qyZeH/gqcOv6WzZPvoD2m4w/A7L70+eTH/yzhuBHn+vVwc2Ev0f73zne3e+RB/sH5/PQzrumG2/PpS+/4J4/H19A+xp/TpI99Ed94nM//Qx1DuX+yx589i716C/0XyjbNz10N1yTG71Hmm6/T+7A+MoL8QW0r/EfPK6WgEdO5qpR3lEz6Q5Yf4Z0uveErhaJj1eM6798Ae13GQ8iFx79+fO+pp+MP8NC/mXm8s6BnEG8phW7EKqbz/1EK717voTumA5yuXOBsXnty4/2G4y/cgf/NsD96jl85v2/5CB88GaXdNS/R27fV8eVBKuSrFdfe6bx6qj31Eh8SbTffnwkPP5WlvHT9Pq/a1z/0s6u6gOFe8Ddo+P7z/Yv18PTjYRzgeZ43HKl9v+XRPsvHn/Hnfvf4PTvnednz/0j4fPZQdjyGiSdGtCD7vpzdxjH/kBXGmMNNsGtVPuSaF/j/2b8L9l2j9/e5I5G9d9xgtf33Xn8CyADgPgxX/o1/uPGf6P+8Shx7Nr2uftZ3GqEP7kGD/9810fmgczomPtrlfLqwx9J2TuAA74k2j9z/F+so3/W7+af/UWwXY/t29WwqjaUXL+z1zWvD/QYcHcxZy9+Ae2fNP4TFZWPzukjMP3l39Jlbl9T/49UyE+AW4BWkqQbD4B2T3TevuOj8Z94T7/G/8W4mik3ku2DuXbHLfbZb9u8lW5fa6dBV89xU83g7xgfSLTbC/Ar3/sZP+DX+N3Hr1CLnwTbB4e9BtlH337vkPce/8qg6wdbh3X51NX4dXBvV4qv8TeNv7LK/umb8Xct7Vcy5VOH/ez7tgC7sZfuMPUPSPt6kLuXS64e3nl+7/t/CrQ/6wKh7tEX2P7G8Vfn/C/djL+T4nwkhj55Qp943zXQrtVH9zd3u8dgk9vXcfU6cOt+kwev/zIZ8uvKQKNPvwD3bx7/Btvi7xkfnNB13cRHH/ssHj/5zf6tf9XE2bZ1ulIff0V1/NmJy91X78uxj175AuEnx6O7dX0B/xb36F9B7N+B9s84kbffeL1tzuRKmvUvX0u4h1LtZz/rgcvwL9H7H/VRlDvL0e3qIeirpH+B7RPjz0RU/K+PzxocP7vjj+TNzy/APTvp0VHb81qm9c/Pxwf350OgfRZG2/feuzg3pmF3Tl9g+7eMe07e/5UhDx7/7L33hoVq3EsA/cRR71H8/dNHzGPdE26r0X1iobv3lr/FYS03/28fta/v/9aD7a9Tq/+o8dkL9H8q/f6OL/6IhP/5J69VxkdH6r/l5hvuXcOfXVe6fcufAJo8fPbxWvb4otEXvP5943/1sv6bUE0fQuHuGVyrjj8DmD6XmxkpeODA/gTx1J/lh0D7/IL4Kxf4S1n8Gn913NObaAOye594JBevYdw/foSBX521f6Lj598BjP94a/5rAPi1e/0rttlnjvUILh9RHPKQebx3hh/xDFKP1+/vvPeTl+inQPvccT5D5W/HR4zl1/hPGZ+5Rx9N/j/zfT+DQ3vd59AWVB+fz6NvuAfImz1tAVc/2/sHHoxPSbR7fobtuP/D7n3/vctAV9vX+CeOj8D6c/77kRR79OmPIPxoL4C69h61Pb2eyN32J1THL0n0Nfrxf7803tOO/ozG9Aigd490JRV+9m2/BLSHcWF3Hv/sOP/3t+e/ZdyzOv5Ode2j8Z90lz7+vddX5VfP/LMWptjRf/Xq/yU/2j1m5hGbg+69/uoX4H42fnY7H/39339V7zHd91/5cyrhz97fs43tle2ZfCbCoytk8OE77x2nUv/iR3p8lD+hOv5cst17nz//ssU+Ox6Z7L9CUPwdUm97p+7bQB/dzUd/+98xQT6Gzu0veWSjbV+Tq0/cMpLXR/7TEu1h2MoH73t8lK/xeDwy2f93rp2rSu00bq0fDVe6dz79Gn8rg/6Oc/toSXnsB/7oXG6v7X1p1paX6wyee3P+l4HmDVD7g0r36iOlgbr//RHdef1rAP8JhJPcedC/tjlDm9Hkj6//8ODY91Sxz4ytFqWz7lqqbtXGP6ei3gcY3QXSx/MeiA9F0AfjGmyPXv1YofgC1/3xWbP83//t/kTagzoFN3G+1Vi5PkA/PDben3bFcW6+84Pf3UnOa/KjPd6GUN0fVVbfnOdDe8weCW7n789A9xfIkPYzGsK3F/NnpvoX1K7Hoyt27zb+76iP1U/lWBPZ7PWUCCQCoY+Xz40kuzr9a6vn3mgT/THXfQXnB6rhR2MrzfrT3Eqz7bf8XKJdv+Uj6uTmANSdVlMj7/2Y28vx6G//1HFrmD9+/e+/Yjff0kmWa5AVEdzk6hvIPiNB6hQTmy9dgdWPYCD2GdVT76lw9/jDn2sIn4FeL830+Fvc3JOP/W/9y2ky1xe3AfA+F/UFqv/uUSVafQFdv/XHU9bttxuNc/Ps7xkfHe1jcu5XxiMFE3de/5vy0e7ZbLekyX2IfdlqPxsfTZtflG53DnNDavzsa++8LgIQud1GN8fqXE36nG5VM+me3VMer2XVNY/5+Cp8rGH97ApuyZTPUnfXet7fWKn4PrX/sUz7Atmj8SuEyCd1/Z+BzF+gO9++ubkGi6sb3jRJ2bz/+qMEB+Y16XDPKkJFqPIt159R3tqB+nPwfEa5/fiV+3//uWX6N5YE73X0nwnuL5A9Hp8B2ce82N/xzXe/3W6wqoqEPs9/Y6X0AAQqU0iCO/3Dtiu/bD95e0LU3tud0i//8msVdnvU++NxgvIj0d/G3157vxeuj9mfL5Btx99nn3zm8Pe+rRdIn789ZDbbA3hUJEknjaiSGu7k3i7QHXSkf+3e+frnqXv+OE5l+5mfESP36I3H53P/SO19/9YmF4/F99e4P+Rq/7P3/huv5c/ovzr+OpHR22fb/fb4DtT2+vYsfna6vZp6LQQ+K9XaEX/t2l8BrfvKx+Loa/zHjOsb/usT4C5Eruyxhv9bRY2uCqDeVaLqnxtIehKE7gKXbjHcq4098YLrx1ffv/nYraS6VWP/roWuHeeORPvrK9TX+CvjV6/9v1Gy9UxIBz7V6NqU7cMct9Ef/cEen2NTKa/lipMuH5NqH49OcNC1l/f2Wn9GMn70yqMjPVAdt/j+d2spXwP4mAT5sxf/48/9DNJ1Uko3H+qUuKO6mXS7e1y6Q4A5M1LP5VaE3VPpbqcjXf3/IaVSGYRbWH88rs/h4/G/aKN9jf/r8edXyJte6jCmsb52NdU6/exjQbZVM29L79+Zznd/wseUx9139RwLbgH2K9Lss+D08ROg3bHZviTb3zd+RUv8m677p6yPDmRuszi5WMRBZ6fVzTiiLeX/4Rffwyzdl1R+Hh9R+bc894M31uO0uf1zGXj9Hnrw+uPx6xLtC3B/z/D165p4AJqqRrd/AoC7qV+f+7rHf7+WUj0HYg+KAW4T6ki+XU3FO0v+Jpf5gU74UGmWmwf3xz39bkPGPALSr1QZ2aq3nwHbJ4D2q0Lyo2N8DQC3ILtm3TaR8bhZxjWyon/Do/Hnr7v4adVzdZDpvhT7Btapxt1J1tjHKqFu7bZr3DxaPPwc6mX4SGjd5enp6oNNnvnjWybyPuj6sr/Xv+SjtBnglyTaFW6/CJK/Z9QZDWxQ1c/Ej3SmT37FL71X+r3U5w1kAm/2xcVOl7dURJvnG7bjdvifPwE4qmkEm4+2J/0Xf3i9bhVBV5GvTushqH52Ta+/+hdVxz/DRn6h8e54KMVumbdth7v28dswtuvn0giMD76+l1bXz0UEpXtesijQTKIxM5ip7omV7qc+N+2OSuine02G3Pmp2xPeLEzdz75nxG0R3712eza/xijeO8d7+SrtBD4PtF6G9y/K1dfenMGX6Hs47k0aANs1tntTVceoSZtfvbb3vk/FlQKpCEop3b4gl6IA6/4uRc8zBEYIQbcYFHSkgGNi0IPyTw8Fzx1WcAOyz/5Gsgc9AHH1+OaErmmSXx33DE8dnwNabzPcPckvMP2ZUW/oZrH6yZIuZJVyf9YohB7OlrtYE6DkglxE9zljTRk5ZyTbZwOgFAUcESMOEUOMiDEiiiAwq3QLDGHZlFnbSA1bMNye6+b5Rp3c/jJq1+fxnL798LWUq9f4nil0+40fXbf+6+4crH7qL/jRvuy1f8vYqDoFVextVmnVuW7Uxzsz4Wfzsb7PpFXOGTllrCkhrQnLmrCuCSkl5OySTqUfM2NIA/I4YiwqC0oAQgBCVYe79BVq53IjZBxD96iAazX74WJ058dfG1t+sM2FuZVh96TafbvNX7i+0ltQfAy0zQGu/nBlRtQVpPP2b7/4a9wbt5fK5ZRg4x/u1HTy1H9qpDRVW6xjxq7v0QdDgVZQckFKGWnNmJcV87xgWVas69oBTfchBExTUWJECCCu/jYIAZFqkifQER0VcFUXrvNyy6i2n31fzjzSg6+fSvvYPcBtJFn7/IdaZj30vT4zdPP5B0B7ZL0+eP3aEN1cmS9x97Nxn0y+O8Nu3lIfyvb1u6tupy5J955SCtY1Y1lWLAaueV5wucyY51n3y4qcs6qNokBjZkzTDrvdDtO0w7SbMMQBIQYMMSLEiBjUbiPSTYkTI08CIXR/A+5MbpEPFqO/eTw84J+32vzcb4F2XXTlZ6/fPSwe6rxfYzuua+P2//teL+OVOPDH4kG+dBs21d0yImwWv55VzEWwrCvOlxnn86XbznU/X2bkUpBzMRutgEM0kE0VcOM4IsaIYTC7bRgQWAmTGEMlToZByROJESE0M99Vxw2UHhBs1VV8g8Trz11Jq4dT8tEc/2juPy7S0Y9fJ0M+PehLmP1k3Cgd12KpYqszbvoH1yATbMDWewyub4X6wpTYSDljXVZczhccDyccjkecjiecTiccT7o/ny/ISVlIZx9DCNhNO0y7ne0njMOIYRwxjgOGQTcFXns8jgNKGTAKQMRgCq0xu4GtVzf9utA2TaBfhjaG3Gbq39WsusdVyrukv16d7hzqwfPbVx/aaPes6T8Jsq/xC6OXa+2RT5itYtAkmytVDWRXgGumnE5Y3wsgxcGmNtm8qEQ7Ho94e3vH4f2A4/GIw+GIw+GA0/mMkktH/QuYA3a7nW37KtEcaOM4YRzHzTZNk0pFB1mIYAZ4I3G7n9qZ/gUC7t50/7oAQveyrK/ol06Nrtfw5rbI5kuu6Y6bE75zLj62QLtPp3xy3FNtvsbjYStorWkouFUj+5IzV1Ksew408PQAg6mHleYjAKzvyUWQs/rI1jVjvqw4ny44HE94f3vHj7c3HN4PeH930J2QclZplp0MidjtJux2+62tNo0YJwXZbjfZaxN2u525CjSchDggxAhmhpijm119BIHZrsh13cdrPqC7HK5S1pm7oSw/IlE+P/z639Vob4a+6+9Jk/nC1ueGXD/sEHHvTd0rhCu10PcikELbYN8rJswLngoEyDAfmdL2a1oxzzPe3t/x4+0dP3684fuPN7y9veN4OKhEez/jdLog52w+NkEuBYEZyyVh3iWM04xpumAaJ4zTaHZb/9jANk3Y7Xc4nnbY7/fY792uY8TACIHAHGxvju+OOGHS506iVOEEAMbI3jCXN+MOUvsAzTuyC3deke1/V8e287HHn6D3/fG12O2/2fXde7rx17gdPeKkA4arKrc32msm3kis4qTG7d/0c8YSikBEHdI5rbjMC+ZlwTzPOF8u+PHjB358/6H7Hz/w/nbA8XjG6XjG6XjB+bwgrSqNclY3ABNhHjPGy4phHDCOF4zTgGmc1F4bR4xTUxldldzt9O8qDXeYxhHDqATKEIPZckqWRNtCDIghIEYlViSoYxydBKzKNAEk9AtgU0W8OfEef3CrTdysnFfHbC//CYnWG5IPgPUFsttxLbSa/b1lGq/vc09odPaXCICCTpIJeuaxAhFqiyljqBEey7ridL7gcjnjfD7jcDrjx/cf+P7jB75/f8P376o2nk8zzqcF5/OM+bxgdaCljJwKQEAcVgxDQBwi4hAUaJMBbHLbbMAw6ONhGKpqOU0TpnHENI31M/XxOCh4h2g2n7KYg0QM9rsCUF0DRLpIsXORJJWXvBnX01YAwTXIbjWLbtmrzzbpRZ1eW0sz0K+ojvcsxY3p8IWsXx+myvXJXXeCXa/Vxgqscgd41daz19HiF3POWNeMlBMu84Lz+YLj8YTDScmO7z/e8P37j7odD0fM54TLecV8WTFfNFIkJSVP8logEIRICAMjBiAMjGEalAiZRozTUMGlUkrBMwwDxsEJEwXYfr+rm5IrE6bdiGk3YUoZqUyYhqKxMuYcB2lNEU3VMZlmAON6jTtC6WZcM4/UMgTuAO7+X7YB2RtZRq3w0F/sJnPnJ3xh7pfG58zyjvC4A7IbTdQA5ltKCUtKWJdV/WVnJT0OhyPe39/xflDb7MePd7y9vavaeDhjmbNul4x1yUhLRkqCtBakNUMAZQxjRggCCoRxTBjGjHGXME4DhmFVaReD+tWiSr4hDojDgGGImKYJ+/0OT0977J/2ut/vsdurPbfbr9ilhGUaMeWMNGrcZRzC1gHOvV1nj81g87jK/qIrHDobrZNAH7PtW9l2fT+rbJT298+VMmhdDPAhkr5A9suj1+NvdRqqi61H7N+8rz8IwXxcLeo+p4x5WXCxCI/LPON0OuP98I53YxXf3xVgh8MJp+OMy3nFMmekRZBXoGSGZAJKALKAioCLruRc1B5CUsqwZEbJAbkEpBSAgVEiIUdBigkhZoQhIMaEEBfEIWCeZ8yLbufLBafzSaXaXu24aW8SzoiVcRqx2423tlzobTq15TiwZhN0W38Ft6UYHix8HTD9abtvtP3DAwEUtwd2/fLOXfwz+fNf48PRbpapLf7iRh2n7WO5uuG2BnolYBjQUkpIFhx8Pp9xulxwPp1xOp9xPJ7wdnjH4f0db+8HvL8fcHg/KtBOF1wuBrQVCrSVIEnBRgWgQuBCEDFJkVnPjRiSgJIJORGwEmQAchRwFHAstk8IkcCBESJhGCLG+YLL5aKq4slURlcd/fHUwLarNqCpotWmM/V0jBiHAaEEcNCUHZV2vLnE1Am0rdvslpl0YG1ABiNSGivTmWzNRnxQ17F799WU2L7nanxM2HyNB+N2YbOddCCTBrKmW9D2AGaclZKRcsaSNHbxfJlxPJ3UAW1OaJVkh845rexiL9FKYsjKKIkgmYEcQJnBhUESUDIDwiDbIAwJmhyaVoEkQYkFFBMoFrDtKQo4CDgAFIAYGcNlqPbdMBphsmukymQSbTdNFXw7J1R2E3a77m95wiQjBIQIQZCgGQXEIIudpCuQka1aN9O3k1L3pnbrQ4Aa2F2jXKSJrV8sZfCZ177Gnxq94LpWP64i82/e5uwHqc2hOWQJy7LiMs84X1SKvR8Our2/4/3tHW9v7pA+4nyecTmtOJ8XzJcV6wIgEyQBKAzJESgRKAFUom0BKAGSA1AYyA60DIkJsmbQkEAxA0GAmEEx6Z4LKAiICzgS4hAQjLkcTCqN04DBSZVpqE7vyYC33zVf3N7sun1OSBYmJkQYZUCIBVECCoIylXbtKuDcfjPN4FEhr3s6hr5ACrJuFbyWOfGenOp1T/op43jn9a/x+bFRFqgL/rXVsbvYW2kG843pK8WYr7QawC5q7xxPZ5Vc728KrnfdVFVUdfF4PKsUuyQsc8Y6C/JKQGFQCSCJIAwmHwYAEUIRQgEAQ4RRCisgocwgWRwlCQGZQZGAQqAiQC4AZzXwOIMikFJAWDJ4CAghIY4rhjliGGfEMVYpN+3O6pfbKYGyv1zwNO/wNKv9eVl2ut/vsF/3GMehkjDDoIRMzQA3VTLU50Ed4g9aBDeAUZcN1lR+qWC7zdLeSLSrTjz1NaB7/WY5/RofD9le8XvD8v2rvKp3sQOXbLfGOkoNEC5FNjGLh5Myixr18aYge3vT2MXDGcfTxZzRCrJ1LkizIJlNRhIUYDKAMAAUAY6ARAADBIwiQGECFc+NM/AXk7DJvFlEIGIDp/5dDGxkTGoJir8UgJyAlAqWJSMMK+IwY54GjPOooLsMOF8m7C8XnC87nPYX7C877E477PY77Pcq/cZpbHbbYFkFVnbByy9Edod41CyDEEzSbe5KlXwEXUAEFqNZ7yMqcaW4acvkjerYV3+m7aevJsdPJs/XwF2EbV66il7oSZAu6/Oe1ewTWp3RUiM2lmXBpUoyJTt+/HjD2/ubgu3tDcfDyVTFWVXF84p1KUgzsC5AXggoQRUtUmnGmEBkz0MEKEJAyAUar0nFTtl8D6VTnwi6mBCDEAApECZ1U7CCjrICFkygQEhBQCvAkcBB98MUK2DGKWLajThfLthddthdztifJ80ksKgTt+umsfn01K+n2QRxHGokyjAMGGPGMAzGaxjRA6mFhtyW0+dKdRTgJtC5qY3t9Xg9FXqBJR3YNjV+7jGQX8Drxs+9Y+5c/VxGev9aH8fozuiClDNSKpjn1VRGtcl+vL3hx9sPvL294fuPHwa0M5Y5Yb40dTGthLwQ8qobCYMogjmCaATTCEIEsaqSQNCwLy5gzihEEHQOPtVlIUI6Ec2zTKZqChOE9BoIa5SJWESxEIAAUDD/AStrGS8BcYyIA2MYNQplt9thd5kwnd0F0BhKdwM4S7mJvxw7omVU/1yZJgipOsnMJsEUZMarwqNNiPQ1CFD8sd2qHmzNj7a9h1sjju6j88M58TUejyuDuLJUN2+kOy8axeyl34pocG/OapeljHVNxjCecTgoo/jDAoTdEf32dsD5dMG6FKxzMUlWkBOjJEZZGSUFsFjxD0RQGMAUFWgIFXBFBMTW8YUEmsiidU5qg8JSADPJ1AXB8FAxIUEhteUEgkLFwKeiQyhDOEOoAKEgDow4sEaijAHDHDAb4TPtZux2U4tKGZVIqdJtmurj3U5z56ZlwrQqe7nmjJ1X/BJNAdLAZa6BzEy6aHjGuIA128DuWc/uk6v3Nu6yjtfm2DU6gftC7WsAn5Fm/dtunNX9613gYp8N7RH0a1fX42LlB368veHHd90aq3jC0QKD3RZbFyU8SmKIMYYoQe0yCSCMIBnADi4JZkv6TFB1EZR1Q4JQgiBDiwq1vSBDUCBSgApEJw9YpRrUfhPYZqqogi4DiVAKIxclVVBU2K1SQCUDZUXJ0JIMa9LqXPOMy3zBbjbXwMXVSQXc2LsHplGTV+01tdcYgQMCs9p1Zr+FEBFZ/8a2F7KwL5fkZYu0u6xjPxce4enLZfbz0Qec3l6rLmequwnS/dfiG90eKzXWMCWt8XE+LzidLzidzzifLvj+ZjGLP97x3cB2Op1xOs6Yz0kl2AqTXIBk0qgPCaDCgASwRDAGsDGNBGUXey5OTHopiBKEVt2kKAAr0ApK95glw7MVdPOoRHMVONDABmRN9wQXCKhmKYgQsjAYCjaUhJIFedVs8TAEhIEwzgPmecY0jThPA8aL+ttGc36P41QDmadpZ5kGo4aIOVsZtKTeOIwWpzlgiFZmjyMkEGJQLUSKQEqBWC1Mv7lb1vHuhLjzty+E/XRce0U210/M0pKmInaYrJ+XDnCerJlMRVzXhMtlwfF0qnGLh8PJbDIF29ubOqVPpwWX86w22VyQFkJJJs2y0vIuzSCqGjaQRZVwFID6G6SpdkgopJvQWqWXvkcBxtoew6j/xkwKOXBYJZoE3RDtGAQhBlDggYMOMs0QZyQBYAVdcy5Y1wSOAA8EClDiowY6d87wmroz3t8GI08MXJO9fzdOyNOEMo56DlEdH8SsC4FpHCUXlJTr/bxlHbHFUf9c7Ep/4eyz41pUPXiHXL/Q/uCR4T3psa6p2ian8xmH9yN+vL/XoGCn8n/8eMfhcMB8SVhm3dZZkFZAMkOyO5uDOp8lAqJ7ogiWASydRPNzcrAgN7BhRcEKoSa9FCDFIKY/jC0qWtzvZPydgszAVkyiuZppampNDbJNE1rNXk0JPAAURZ3jQR3iYQgY5qi+uCFW260H02BpPNM4WEqOAXFUYI2WsPq03yPvNMtc7LxBrP63IqoCOwOcMkpK9X4+tNHugo22z7/Ux/tDbtBjr189qZH3d6SfwCaQqCqSiyjA5gXny4zLvGjMYgXZG75/d2f0Ae/vR5yOZ5xPC9YlY12KSjOLXXQpBovygBjxQRGgoOQHRZNkbpu5ulhMOq1VZQSvEF6xARmMtmYPe5KNQ1Z70JikNGmm52EcXu2ZXczxbbUuc1M9a/a4qC8RWZlK4QyEAl4ZaU2Ia8A6RCzLgmFeLFF1xDBY0qllE0TztWlCqtlzVqZhXVfLSrfistMOy5AwDSvGcUIgrgDTfYZzxA9ttBtChG7f8zVuh1ztN1fS5t3dFJfNBdc/ZJGarLmmZBLsonGJpzMOhyN+/Djgx4/3umkVqzMu5wXzRQG2LoK0QFVFDw4WDaki0UgPmJoIBIADmAKYlQAh848puJTwEMkqxWhFYQUahbVdCNN8lNUnTadhMt+8MnbSe6EogMBgMAq4ruIC0fhE8xBAmpR3c1AKQMlmZhHFKqnt6UWIcilATpAskAxIBkoSpCEjpQFLTIhxUUd2jLjMi8ZOjhPO4wW73Q6zleM77fbYO3EyaOWvcZgQmCGd2ii51Nt6Y6PVe9299tHzr3FndBRtu6Z65Uzb0b9VwNH2c3XOFKSs9pjmkc0Ws3i0FJcj3t4caErna6THjIsxjMlA5v6xkqGhUqIgIzH/GCnIiN1OYxBxrcuh9f47gJm6KFgBXiCcNI4RHj1B9TF7hxkmMKHZXWAAAhagEIGFUYTBfRk9t2UrqWQrlKtqGfCKzQRSX1wmCJsJnNVmQrHHSTTDIAly0ry6dUngyGBLueHAGIcBl7FlgV8uMy7TrDVPprOC0EDm+8Bsaq2SIZLLA9XxC0F/3yAnPPTprdpInXFfP7JRz3MxmywlzMvSHNG9PfZDfWNvbwe8/TgqwOaEZUlmmxXk5OQHQRIZ8eHxi74F3SgACAay9juokhnJtqVKNOEEhBVEGQouS0XxuMFuY3dSC6N0V8V9UQxGabk/aDXyOpeSSTQU+3OWCjYU2iY9BJVokjNKJHAsKEkQrOx5GBRYFDQihZjAkRGHAeMwq602NJtNN3s8TGrnDSPGOCFwgEfF1L2NX7PRvsanxj1uY3MFr+ovbgun6vAEzpS0xofaZhccjirNWrUqBZg6o48W5WGO6FXTVUpWgGkCpzGMNAAYQGQ0vttjYiADgTSrs9pWIkblY0XBgozF2MYECln3YBCJqp6EFspECiLPm3N5VkkSaDiTp/8TlZrvZhZevZo1lhJQ5tL+Upsa+QpBZHQ7NMokCXIEOBakxOCYwauCTFj0hFglr9pqo6mFVnYhds+HEWMcGuUfR/WruSosLtV1PEyTuadGfo3H40Zida9tSI8NwFBtDkCsEbv+y5JxWWacZy3JfTqfcTi+4/34jh/vGlb148cb3t9OOBzO1SG9LqWqiCWROqKzEx9K5ZP5yJhGRPbwqtD5y1Sl05ufFGTV8WwMoywotALIGoGPDGK1vDwCnonBMDvP/HAtShBG4FsWAhQoGossnaT3Cl8tO7raf75Rr676PhhAi7MmumgUgDJ32dbmYiEFmxAs/rIAOQMpQRKQV0EKgjVmzMOKIS4YgwUqR6uJwhE1RMsIJMdP3E6RbXRC/9KDp18DtxKsl2KbwjkCVW0cbN0KrSXhdMui+WSnyxmn0wmnsyZsevR9DRB+P+B4vOB0mnG5rJgvGXmF1nnMofrIPCmTxVm+AcwTom2BB5CREahgcPKDIFJUkpVkEk19ZhoNUkwWieV6EQIRmAICRTBFQDxBlACYv4mUhRQyySbqC6NaGk+vpoPsClousECMSrRwDUhkk8L+BgBsjCdBw6oq8PW8CgTIaouWgnrNSgFSFkgskJCQQ0GYM9aQsAxrc1yb85rqFVS1twPadsq4YV7V4V43/ho341ZNVBVHfUNd7WEDWWMb++pJVpo7Z6SSlABJK87nM47nIw5Hpex/vL/hx/sPlWZvqjaejysu54TLSUOrSiYLUeKaqAnLiIY7pCki0IgYJsQ4YQgjnFL3qSFIKEVtpSxFaTpOQFHVUWn9BJj95npbIEIgRqCAQAFMg56LmGPc2sqLqWnus9cONRlUtKBOZRadvt8Azc6UYLllJtV8T2LRYqYOdnsyoBEpwMhYE/JoFVKJSna+woQcAFkLMosBOiEwabccq1EyWMVlsiRQg3A93zslwW2VRQc4033bT/wawH1bzFlFXZGvCI97aiM8hrEglaS+mqzVg0+XE47nAw7HA94Ob3h7/4G3d0110e2E+ZwxXwqWi2CZC5AHXas9wkMGwJzBrhoyDQg0IfCIMewQhwHq06qiVlf44vR4AcQkGpmNZlEglXa3vWa6MGIv0YrFU1KwvbKCUN5FaZaSkQtrIlopDWTQwq+9VKtz0wSWtoO6YjftcQUaoQKOTJVlg4MYuyn2uwUwUoWQDbiZ8uZ4RFDSJGghoBg1JpL6fz4H8IDe30LNxxe8Hg2/XrK9gBVQPbPYJ2xCVEHTCsIZ67piXhcsZpsdz17fw0H2w1RHDa06HM5YLoK0ENJCWBctnhOgEkXDqEaTZAo0IUakATGMGOKEOIwY4ghil64a/JuFIYWUGkduIGMFHFgDiUn5eyU+uEk0dqmGiGIAF98TVZAp0IqhJgMQq8NRqtqoQOgYSOiMJxItvBNIS4g7a8hc3Qq3glCaRCNXZ418qveo74Igroigd9aLfXewAkPBKif3Es1TbIAOaP2B+9faW2+5xy/o2fXqyI9eovWmGdCDzbOiC0rOKFK0NPd8xmW+4DyfcTqftNbi23cjPn7gx9s7DodjtcmWpWgemaW4IAf1i9EIwmh5ZBNA6h9zwiMEDTkaJjfmtRiplw6HFFBOABJE2gbOQFHSQ0tcGJvIvlf3AFMAQ1VUQrC2TJr4KRSMrTdpBbHEUQW5vwa4GuhiRBrGwCAqSr6w1esPWp+/1XhkEFuGOtU7ZaaQGYYmjgWm0BJAYsDq7EQPgkZpQc0FFqUS1HdXAsAkJtHroe/baNU4v3qNKjPzBa6bsQGUxjrU12RLhvh9K9KX6E5IJeNscYvH8wknUxcrwH58t7yyIw6HCy7n2eouAjlp2QGUwXxjCjL2jUYwRauHEcA8tEaB42B1NBgiRet5lIwiBjKsBrK1EiFgTe4kcb+YSi/ymD8Efe4+OU+vsVAuLWcAaEZ2U53FpTsMcNRVqyJSsoZ6gKkdFmpjDG1Q7yDTTcO7vLaKoEktULtnbptBpHb3cfZXTNKxCEohUCazXdUxURxRjq6gRA8HJWnuVMGqClB95laag+0LZPdHBdmVZPNlaqM2ogFNSY+ElFZcZi0cejge8H54w/vxbdt44u0Nh7czTocV55OWg8urWAR+sCpVJsUwgmgCYQJjRGBlxUIYNtWCYwxafSqykTHm2M0JwArIChQjPngFSgaotJJtcIc0m99Mt+r8Nt2QmoMKmv7SGDaP6td8NVuqxKQLoyZdqpoItYO4TeQQXG0LVX1jDnUDaNM8sVhMpKuHrrqLSTQR9Ruqz9lgaJ+FO/wzqa1ZxDLLjRJiQIKWXqiqsYHmgcO6gW2rPur4AlwbPciK2Wmm+DSAbd6rLp0+6mNdV5znGcfzWYkPZxd/fMd36+7y9uMNp8OM+SyYzwXLLEirVRDOHhw8gHgEYQKJS7MJMQwYgkuwiDhENeAHQowMCkApZBnPBUQJSCvACcJrZ59lVSupNQQkk2hqkzECgiaLSgOZEKt0Y8uuhqhEs6ui16/XC9Qf53ZWCEbfB0IMWh/I2zqpROOapNlAplIcQpos640+vJGiFCN5CoQsqxrQhFOYCokmzaQIKBdQKsBaIKnU8ihkNrcwqTk8QOsXxcbY34ZgCW4H3X34NQxJIp1EM9tFXCfwm2DBrVJg0R7JmrJrKezj6YT34wFvh3f8OKiv7O39He+HAw7HI44nLQm3XgjrwhpW5VEexWMWJzAmBRdPiGGHIU7q66k1E7XmBkcgWJQEsWiwMK+Qslp41WKxjO470whedwyLRY+4PVbtMs9f6yWZU/roJZhKklKKZqmJZWA74FwjY6pgU+nle6otnLRHNiMErXESOBrQIkRIE0JzQSZBRkFGQSpZQ8YkI0sB1exv1PAu3cQWMw9GppYsm3vTstU6qbpoh6Wb4jyAXUjcuAi/xp3R6/7Z9HadJ+2KFfH6HoKcpNVdPJ9wvpxxPp/wdlAn9A+n79/fcDwecb5cMM+rdoJJgpythqKVgoNMapfJCBaXYBOGuMMQdxpVHhlxZISBwBGgoAVvhDwRMyNjRpYLklyQygWpzBr9gYRmMznbB3UKg5TsgIMsVEnmTjK1U5v95dlppWRNGBXPBjCwodzMO/eXsUs4YmtKqFI0crTyAg1ggQcwDwo0EbBY1IoUkGSAEpLFbZIoyaP4cjVTM6S9jbB3OZUi3YLgngPzmwlAouXSOas89xGvRViN56w/8gtiPxsaemc3CP0kceoYSEW0DMGqlapO5xnH4wXH0xHH0zve33/gx8EqVr2/4f39DafTGefzBfO8WMslQS4EKaqfkIxtg9pkAaNKs7jDOO4wDjuEKOBBJViwktzEWvimWOJmlhkZFwVbuSDJjCxGhmh8CJxldNaOwOBOetXCPe6gFq4TXczxrUDLKKKkS7HQLhjb2a1UNbSKfV87fpqUs3odCrJB63wYwAKPCKRAy6IZAg40FLVBtS4lKUEiouUHCpAdaKXtxfe9rwZAYzKak5oKISSAuwpnd220LqQM14++xna4Qa0SrWVYObVLgOWVeYBwwWVOOJ1nHKyK8OHYOaPf3/B2eMP74R2Xs5UgmBcsa0KyXDIpDHQMY7XJZARjQmCXZntM0wQOBRSz7bWiFCjXpM2ChASXZGfbrwoEMSDAHcRcJ7uGL7l05U5lNCLEc1VUhrV/YkBDhkjSQC+xCBP/HjRp1iRaa8+kUk2LnkaOGMKAGAYFGo0KNB4ghSvIAoAkRZNUCyObcqtsqwA5a0mEzo4T68xTrFxCHx62cU7DwCaEUDTVh6vf7wpohEZH9q99wezxcIbRweYqklsmSnwI1lwwrxnznHC+LJq4eTzizcrCvR8awN4P7zgcD1ZzMWFeEtJakDODMqmlLZ7e4iyjqo2BXXWcMA47jOOkKSyBgLBqzB8XjbrHCsFyR228IJekk6uWJOiID7Y9WngH1VAPSx4Vi2kEqupYzELKJsUccJCWT0L2Xw+y6zQbrmFeVFVHB1ugCcwjgoFN7CwZmnxNpaD4ZwEkMZ9gKZDCKIVMZSyVMCmSLcdsK3RRAYcqzVjMYU3W/MN+141EowePv8YtT2TJ+rX+hdaMaBNLb55gviRtUWuVgQ+Ho8UqtiBhJTxO6oyeVyxLwpoKctYyayJUc8hgkfdEE4gnZRd5ApcJwzBqSn4clMIflHYulAFaIaRER5YZRS4omJFlwZpnpDwjlQWpLCgl1x+nPjFYoDCDKSKwkR1iEtYDF2u1rMqxmmWmpEqBqqt+9Xxxby6Dq3kn0Eh6IovfLNpMg0qVpEyMwBGBBkQeEHjSEDOaIMQWKu1O9oIgak+xiJIgUkCSqrpb606KETZuP3a+UB1W78Qs3WJ2mvvi7C0APihl0NsZX4DbUvS+b5tfIcu1ckM6C3LKOJ9mHA9nHA8XHI8XK276HW/vPyy86g2nsxIfl8uC2XuTJUIpsJIDgOePEVn0h63cLBMCJrAo0JxhjIOGB2XPjqbVpNdZbbLiNtmMlBasacWaE3JZtTiqpcx4tLuSDKHuyaQWyAuiEmrWpTmA4TaZVcvKSEom6OUC4NCkDdDImD+t7WiFVjNQvA6kqg8aviga6hVJ7dNAIwJNiLRD4QCvtQhoTl0QQZAMkqzFhyR1Km9/NubqkmKSF5sABKpp3LAFqUBIY0Y92sXdY/dtNNxKsy+wNZCV7nndCNVHlIsg5Yy8qup3PJ/xfjzi/f2Ig5UfeD+84d2A9n444DKfMM8XzMuCZUnGMJJG4wsAsKqIriaavyzYFmlEwNgk2qh1DXlQooYkIZskUxXxtLXJctKqxzkjFdWPtLajfrMGImuQcLCNyFL3ScOWdAZyd22MabTCqsUjTcinX5vWgDN4aPV7lGWqESSFLDDFNhSNsmcwAhkhQiMi7RB4h0A7lBLa2ViGgEsylqwbktmXbWGpQrlypaWaCf1kqOqxSzdxgGkdSiUT5b7q2IC2lWZfYNuC7UaqmQqZsyCtGcuSula2R3VEfz9YUPAPHA7vOBzUPluWGWtaVbKsGTmp/0bVxq6zC7kjWsGmE2tEtBW8NWa39rJRJWwqCUUWZDkjyQlrOWPNJ6R8wlouWrUpC3L2aH0LobLwJ6ZoYLONI0jYynir4lRd0ERtkpLT9pYwSkltWArd5G7SDB3j7eJDskWNELqNIEGlGiM0oNk1CbRDpL0GNFOp55GRwQYykmRbT+L09IZU9bGpjtJJNOsq49H/Bq4+JNn//6ARYQMZdf//00cPLltUdSsFWaR22pyXRasmnaz8wPGgZeHe3/H24w3H00GLnh5POJ4uSGlFzgm5KMi8iA6KxgsyRRAPyiyysotRRiU/bHINHDGMEXEgc0aLkh/IEKwouREfvqk0uyCXotH6Zp80NYpBiBVg7BuirtaklYiVKSytjo53l9ESVcZcqitBVyRGjWd0oNn89MfUO30rAKnZZRQ0vIwVZAOPGHhCoJ1KetqhUIBIrkm1XBLINpYBJKvavhKMvPCYSmOOPeCZyhUV6oiw2eCizuM3ydRH+0EPVMcvYv/REKk8HLII1lKw5owlZyxJC5uezxecTzMu5wtOxxN+vKkU02rCBy3ffW6O6Gy19FWaaBFRdCye11hk3qntgQnB7DInACIFrQc/CCgUCBdkJJAUZJzVLsMFReYa+eFBwmrnmOQ0ZZFkMFtnRHRmE9HCq4w0oH6uuLLYgoWbCmUxkkCtcKVg8rwty92yOd2DioURGAgMDCFijBHjGDEOEbtpj/24x27YYz/ssYt7RNqDsUOwLYFQkMEla43+JBaupp1LvUBsjW4hzUTnCmYNIhZrGSPZNBfWc2NhULF9Z59W+WZge8g6fgHszqghV1KBlopJsDVhXr0J4Bmn4wmn4xnHw6l2cXk7HFSCHU/alGJZkdasuY7mH6v2BwAvA0cYQDyoMxojBgcbmW3GwehuVRUpZgirzypJQiqnToppxIcgoc//YjZPk5WdY2nfFzA2KebFe4TrtQBMpTI20dWowhZF4dEl9l1kPqYKMp2ZTXUU852BK5U/MGEIA8Y4YLIS3ftxj/34hP34hN2gW6AdWHwbASIkyeCyajBwlhobCtFqYCyxhZJVgFl7KYtCgTXXEM+DKZqdTcV6epvvzIWYXYGa/PlhD+svydYN8Xwmk2gi1T+2pIzLsuCyzDhdLjicjjgelPg4vB/x/nbE4f1gXV2OOJ0vWJYFy7JiXQtS0joV4lS5kDJqpL6yZhtNGGjCEHQfLfpBVbpoLWILKGjuWMaKLAuSnCvIMmZkk2bioVUWgU9shVRl2BAtLAo2t2FaHQKlsaVn9UjlvVCuIVWAhj0xnPammiCpy3+nOjrQTLYGEkQGYgWa1lF8Gifspifsp70BTSUbYw8qO1CZQGWCNoxPWIVAedWg4E6ikWgQNCPUVKIABRkXTWQV0YRSTVQjSNCCR+TFjurmDKTNE3nQ8ZM2/3/R+oDb9L5MdWCzkKIq0ZbFepMpmN6sKfvhTQH2/q6S7HA8YT4vSClhXbOpjibN+mxRAIDbQ4MFCmudjyGMGHmHIUxGUkSLoCdT17L6y2hGkRlJzkhyVr9ZVR0TgKyR+AwAjXBhS6/hGm2ie5dADo5aYcqvlIPMK2aRR3+I5pHBelqXe3Q+NdWxABSUv9QwK0Jg0t8dJ+yGCbvdvoHMJNsUn8CyA/IEYAeSCQJVV1lVECAXK4Hudpmpj+zX0DYxkIEQ6rlRq38SDGReZSwbw2g1HcVyppwYeUjvf40Gsn5fSkESwSKCOWdcVitsej5Zz+hDLTXw9n7A4f2A4+FsWdEz5nnFsibkVJCTVLWx1lx3nwyRAsyZRR4xhAljGLW+YIyIRrHrdChWYMaj71VVLJ3KmMVsM+kDhaGyg1VdrO2aDGC6t84yfo42fTSYum/fpOBSlVQ3klJ5OK+Rs7nABbVokab/w9RFwhAYYySMA2McAnbjDk/TDk+7PZ52O+zHZ+wHlWZT3GEME1BGSB4hXvLcwCW5ANbUQ7piQaoC2wJSKzN7GQJVcQtaxIeWWm7SzIqW6JZ1oaPS/0AdcQuqLym2GdcgE0EqBUvOmEvBZV1xPF/wfjri/fBuUuyAw5uW6z4cjjgeT9onelmxLHljixULkJBuogFOErCWHAgDYhwxhglDHE19ihhCQLAIcC0SumqspawockaGR35oaJVG4q+NmKDe4UogGcBFy9ARdqAymgrZGLlK2VuERav1aACrdl+pEgwQUCHNUO5KfauRC7WZiko6hkXkM2GMAdMYsBsDpilgNw143u/x9LTD036Pp/0Ou/EJY3jCFPYYg9qrIgNKCciJrQy6oGj+ql77qj2YGijmKjAnmccxNqfelrhBD7jcMxrUHmpl2OYDwhXQvkB2Z3RgU3+UsoyXdcVpXasz+sf7u/WK1kYTx8MJx/cTTseLdtlcelvMSQ+yzVsiGdjIKGweEOKEcbC4xdjANoQABtVqxiKacpJkRimXCjTdqzQTyy/TLGlfvU1llAEBA6h4QdURgJZHgGjZOs9Ebj4jrU6sZedsT6qOCrUgYYaVAVBvgC4sVmHLexR6LGOAVpYaY8Q0DNhNA/a7iKf9aADb43m/w/P+CeO4x4AdIu8w0IQgA7JEbfuUGWXVngPFO5t6teaiwPDGhnqf0cDmrKkBzkuMuOQjd+aRVspC9UKoRHNatU98iV/w+vlwZq24n2xdlWGcZxwvDWj/8+O7NZo463bQri7eIzqvThWz7YtNOjHflYFMCBQYgUyCDdr6dRgmi1IPGIL6udaUwbIi5RVJZssjc3ZRQ60KZnhDCqkSxwgQqJ0SJLY6I5gA0epZAmXnRHjDuooTHl2PNK2KZRWiCDZhNQbQ/WI6SbmBLYtGzweqvrGBI8Y4YDeM2E8TnvcTnp5GPO/3eN4/Gdj2GKOyi8HcHZRHeOdQJEZZCGURAxrVTjpeVasPoG+xjW0pqRXurKQd0LkkYNntLs1cS2S9n1Wq2biRaF+w01EvvD0vRao0m1PCeVlx8vIDpyPeDm/4/vYD729vGjx8VF/afFlQVgZyhORYbQQlPqh5vOsSqDaDqlCqNg7jWBugxxBtY+0uiYKUEgp1MYxyQS5z9Zt5wVMYAQL415GWHrCmg0GcfBkBjChW2VgcGFL7dSrQxJq5IwHkW1GGjgBirWFctTCPhRR1YWgLJXOQkxIfkQOGEDENo9pkuz2e9xNeTGV83u/xtH/C026PMaiKizwoyHJElgDK2p6qWAedvBJkBSSRVm8Wk0R2IaQzHP33ua+ButtSCRxqqn6xraqclsxJ4sECOr7IkIdDzCbT7NpUMs7ritPlguPlgvfzBW/nk9plR/WPnc4nnM9nDQxeFmtcV2oqPFm0Rym80d/95gVu5dJiYOtEGTGMQWMXI7TxBK81tyvLgoSe8HA/mQPLbSWY0d5KEARSB3RAtMwA31vBVQOYqrm+znuEh9bcV1VRyxzoc6kEgS4fTdWSrhyAUuEqUSNFDKyNI/bjhP044uVpj28vO7y+PuH1dYfX5z12uwn7cYf9NGE37jQNZh0gZYBIQC6mHq5AWkS7m86CbNXCqo2GjsCoDKoN9zGY2ijdZssGSDIIvuAY0NyYg4CCSkbqEkTv2GhfMPORS8G6Fqw5YVkzTvOM9/MZb6cTfpzO+HE6Wi7ZEafTCZeLBQWvCSll5Gw2mU0ssVLdSoboRGNFGZgJ0YrMxKj1MMZxsJAqRhy0vgdEkJEszy1jLQtSmZsz2mt9uDMaqDYfLHZRBc6oIKPBQpE60sNLl3vjcycNOvKjhlWR1t4QzloiwU0e/06XYNk3Uc6kUM1nG3jANEzYTzs873Z42u3wx8sTvn3b44/XJ3z74wmvL3uMw4ApKus6RJXCKQdkKMhKIuQFSAuQZmC9CNJFkFdBtk6nkrWAq5CW+0YtctqAogArm61QVuCIQPPtBH2BVy/AQGabEgm8FTHwxTo+HAJP2Ey4LAmXZcXhPOP9eMGPwwk/jgd8PyqF/3444ng+WVjVbE5oLd9WTHI5yJDJ4hc1zwsmXSIruGJkDANhGALGMWKYIoaREUaAqSUjStE6/assSLKofSaLlR5wSebxeVQj0lvaSzQqvzWG94RNmK/LEu1akRr4xGtgA2lNfpW0ljdmABezx1w9liSQFSrdC4FFHcQOtKdxj5fdE16en/Dt9Qn/en3Gv/54wh//0ueBAyJbfCMFSAqgVZ3LObNWx0tQsM2CdQbWGUgJ2h/Oi+po/XA0nbGXaL4582i/GbnZbiLwMg1iqULFgMr2ca6A08NuyJAvBrIbglp+YF5WnC4LDucL3o8nvB2O+P5+wHfLiD4eXaKdMS+zrqhJLFPXaOCskqL6X6SLXqeo9kkgDAMbyBjjxBjHgDhqaThQQUkJUlYFV1mxZt2nsljEhydUetSHqW+1DLbAuL0OaFYbzUuHu8T1YjTFSQKVYN6+CWabMRnIghZyUFPFCAPRZE3tvAmUZK2TREOsImlm9C6OKtH2T3h9fsG3lxf88e0J//rXC/7fv57w7duTpcRQdXpnaEhUMkexSjSTaibR1lmQsnZg8u46tcR4rz76IMBP0PPgCpWam9DAVhrQbA/o2sQG1E2l4nuA+seDDHpBcymY14TT7CA74+1wxttBm7S/vR81rvF8wfm04jInLEtWAzzBgoTd98IWY+cAGzRVxCI7YmQMkTBEwjgyhtEj8GFVqyzVhDQCP5UFa1mQZUUWS0FBAoAayKrOX241OGwSaFEd95FZDUYJnW/JJxLQ8rC0zog7okHuj5NuD3jlqyoVzR5VM640gHHESAMGnvA07fC83+Pl6Qkvz8/49vqCby/PbXtV1RFV/VQfJCVghWIcxf6WgLzatthW9D7UMDcy9Zg7eh+4Uh1tj06Sw32BZpuRZdVbMip5MR5rhMHuesSHaTL/7CEiSCnjPC84nM74/n5SKfZ+xI/3M94PMw7HFadTwuVScLkIlpmxLMF6JGszQKlNAPucJy0iowmUGqsYB0IcgGEE4iBKfIQMoaJl7LKmuqS8VJAlSche5AalLs7eWdPDshpb5vOAgM4RLdaeCRVgHqcINOetAY0yiLX+vtZXQ7PFslUiLmzUPUEyasBtJAYHYKARu7jDLu6xi0943j/jj9cX/Oubbn98e8Yf357w+jLhaTdgGiPGwGaXmlTxqJIaXQJz/re9FCNfhGrnTyd7XStG9aUZ4CoZ6SSIZkLUMhUMLdjD7odz6kTdH57YUCpTqeMLaI+GAGvKuMwLDqcLvr8f8P+9HVSaHRrQLueMeRbMMzDPjLSGrtAmNPjU1URRCcJkCYphsNCqEWEQhKEoyIasxAd7VrIu0SKL+svyilwWzV1zFwRBm09ovnFL+UDr0mXmevVlNaljzuNSUEpS1Q++csMYRQGRNbpwNZGdBieQBLVdnOy5KjSq4AcQCFOY8LTb4Xl6wvP0jNenF/zxTbd/vT7jjz+e8fK8w/PziP1+wDioWp2LmEeEGqisUt0WbAaKbL9LxNhT2YJDmkSTfqOmJG4BZwEG7L44rguSR7w40EAGOptOd1XHr6GXWYmQBYfzGd8PB/zP2wFvxzPej2e8H2ccT6s2ZF8K1pmwLIy8hha/Z3surQmg5pcNGl4VrVpVHMFREIYEHpLWYYy6khZaIMWCgWVB9gTRvFqVX6ertXuKZVI1/5iV8axrtnjusIOro++LqYu28hdBS2AkAdikmauyteaAUfUWkaHpKMoCijVGZFESInDAbpjwvNvj9elJQfbyim/fXvCvb8/449sz/vXtGU/7Eft9xG43YBwDQlDgBLs3HsLVX2vpNuTuuUk0D7kCe34ZVXuyIsLluAOMCzYNOVzdFI/gDJU4MY5EW/MSNv65L4n2YIjAVMfZVMcj/uftgPfTjMPxgsNxwenshXQEaSWkhVFy1KBS17iEdAJ6Eies5gaPiHHCOO4wDTtwTODIoAirvQgIvM7HBbmcUMqMnJO2eipJGy8YeEHaAJ7hZbpNLUXskimp+33e7AGN9JDr2oWoP0RVResmY1KNSFBrVxkpgGwRGImqPeU5XsquRuzGCU/7HV5fnvCvlxf869srvhnA/jDVcTdFjCNjsoDiGExamC1Em9ohzupio0I2ddGktmdfOGdTJfeVRKuS3J6ZRGvRm/a7meG1+lUwWuEgUxvFKUh8Aa2OGn5jM0x9Zwsu84zj+Yj34zveju84nRecL6vWzV9Wq/ORkNeElJKGFIEqO0ZQB3SggEgBAw0WVhUxjgFDZAwDgwLrSugRF2Vt+WS4aJZ0WSBWC9FJCsBsJAT7IV4xWFVVL0btjDXMvhFlBjS6ZOMrK82Yc3IAtnfHtPvnAMuUMVXKJ3wyhjWr0zuGqE02QsQY1Rn9+vKEb9+e1U/2bY9vrzu8vu7w/DJg/zJgigHR6uybx6CGqlVJ5cRIglUd05qMDYBuezYQNUcfmoTr4x3hNpxUwDm4QAYycsLIQAwT/wayvm2wf+MX0GzUhu028dY1YV5mnOYTjpcjDqd3HM5vmC/qU1tSsspRWj1KC44mSFGmT8xBrKFFmvIxhIiRI8YQMUYDWSCEYDYACqQkjcCnBQkzMl0UaHRGkRVeZUlVuU7lcWazGgkWDIwBdZpZHJ8CzFZ8Jz5sda9+N7MvlAchUx+7cBafqFnB5aweqjNez4eJLVlTs6J344RvL8/4448n/PFtj29/7PHt206Jj2cF2e7JctCAGoFRCnTLuncwFWMgcxJrY6XPK/FhG64ABdAGeL0ka0tLCzAWVw2pA6N017T63QCxtr7SFdP6ApoNvZlWJs7a3F6W2fqWaX384+kNy5KxLKWL/thuqpZoCQKNFIjgwIhD0JyqYcAUvKCMGvmRrUGGZGRJyFkd0JlnJFKwZbpAnL43QKgTWvSVmpTY96wN5og26WU0nVi53WaXaRQJ0EuyLquYqVEjXYiSkxCS2FhWXcY96NZjKYcwYDfusN9PeN7vLaxKIz7++Nce377t8fw04elpwP4pYNoHjZbv7LAWZYNKNHlIV07qn8vmL3O3ipR6qvUuw65gfal7S4t/vFYjjeSvIHOVWTUCt89gNRiIpILNxxfQbIilwWhtw4QlLZjXBZfLWVXH8zuOp3esSdNdtER3QcreuVP7UEPYaq6rRGOG9SJjTFPEbtTI9Ehe58MM/KLFVqUkYxZnJJ6R+WLbDPAKpzvIEw6rGudAMzXSbTex8gMOJFjptuzqsgGti8sjhi7ZhU1qkqmfYqUK7L0FZpMRZA3Ii7kVuvr8cYgYw4DdaATI8xO+vT7j2zcH2hNeXyfs9xP2+wG7XcS0ZyBbHllVb116GXtojGLJKsVyEis6295TxU+vE17f9/prrm21XnU0u8ufV0VCgOCRImb4MUz1Vo3Dr+oX0GyICHIxkK0J87Lgslysr/QJ58sRp8tBK1Jn0RW0wBogeDkzLegpZg0TRSt8A4SBEAfGMDHG6I0XrCw1dBaJJOSUkNOKNa/IvCJzQg4rclhAJSMgWCqUgazOjJY1XKVaZToJKhosal0MZCbNVFLadKtzkWqYUksQ7fI+3FbKDEkBZQ2QJaj0i9pP2uvi78YJ+92E56c9Xl+eK9Bev+3x+k1ts2k3YJoipiliHAklaQceyRbBZSX4FHAtl03B16mNCVWdrXYUUPfA7R4ur/sUGZiW49LMwFbxailAXjavHtHWJSLPCtAL+gU0G6WI+s2s9sf76YTT6ayxi8tioU+lFaKxWDZ2CpgFCBr5ELgghAIOGRwyiLVNbcGMUgJSFitP5mXKAlK6YF31u9KSkXJBIUKmiEKTOU0ziL0PtNlhaQTSAEoRSC3Cw/1FGm+OZkPUhn8e5WHpLfA3otow/jG1t1Ad29qKyXK81gBZIyRFUI5asYqU4BnHgN0+4uVZ1cXeLnt53eH5dcT+ZcT0pMSQljCHqqx2HpIEZRXkpaCsrB2XnFmsxIiXX7fqzsVVR6q/pZZ9cT+a23hOglmYWW3By8X+Zq2mpLGLAtcj3G5177dKME9Fa9bfT6pg/ZOGEiCrsoynI97eDzieTrjMM9Z1hWSrfyEep60gs24JoFAsYlsQDWiBCyhYdDstBjICJGlfMYugIGGkdcGyXLCuC9ZlRUpa9bYgomCnsXSsEQlkJc+YAlBGUBohJYKy5Y5B+37VG01SQ6U0lMtZy2RR/i3S3+2/Wm7AbRFj6FyalMIoiVEMZEgDkAaEEDCwliHY7wOeXga8vDR18Y9/PeHbHzu8fJvw9DJh9xwx7iOGGBADb0FWTHNYCvIiyItAktpoMODXGMosyKkY8xia/0yunNRQABZuQPW+1tum8p0kkz7WsVH8emnYTVq4jHSQqfms1+8LaDZyKVi8LuPpjPejFjqd5xkprdZdRVMlai8vT3MPOpE5q7QLQRBYwKwSDexN7xipEESSliczZy4yI60r0mIgW5OqQoUhEm3SRIAKqGqEBGEGZACKNU0ulksGrtIMgPq8WCtRocbteRGdBEIyCV2hhho5Qmp7VClgdlLJhLKySrQ0AOsIyiNYtJ7Jfoh42ge8PI/4ZhT+H26Tfdvj5dsOTy8Dds8Dpl1AoGA+wA5o1ihEJZrui/vnnLo3O82L0DroGutInZnWga6qz1KbyIv0j1sXGQ9xc8dGYyt18RIp5mIxthEmxzrG5QtoNkopWJPWyj+cTng/HhvQXKJZqogF36BAEAgQbkYyGdCYMgIzmDOIVgBKgecsKAgW0U+mvZGSK0vSgqpLQlqKsWsDJEegKJi1GblAglg+lfdK0zQXsRvuyYgCgII2dXCwefR9q1iVqtpYIyMLAOuMonqaxy+q+lZWoCRVG7EOpsKOCBgwcsQ0RDztIl6eJ7y8GMtoBMjrtx2eXlSi7Z8HDKM62jX42NRUc0EUo+3Txco+GNOos95AYzZzycVaD4t150SN+lA7jYyWtxyyYiatky2W3FqKF3+VTtq56ugSzY0xuy9oVD7QPbD9F9BslKyU/fmslYbf3jQy/3K+YF2Slisr2zgC7pYsYX2ZSIt+MgsCFQTOalMhoQghlQKWUJ2tmp9FyGu52qQyekhBA+YJkCiaPGnpY4A2oyDqa+X75icHK5Jo587iDjJ4aL2z+l5mTTOk7e8ldA7iFvmBpMV8vEk90YQpDJjGAU+7iOfnAa+vI15f93h93ePl2x4vrxOeXyfsntQ2G6aIYbCwLTtX703o0fjF8sz60CpU6SrV95lzaaxklVqNCKmPGZsAhaoyioMN29d7gkRaIpLWd2GXk/YOoBm7bXwBzUYugmVecTrNeH874cf3E95/XHA+rljPGXkBkDyBsikQXciF+bZaV0quGfM6QzwiI4NbzQwzyrO1cs1SrEWvocNiGGute/KqvprbpsU+gyVzhkb/O/MJYw1DR9MzKfCE2mOg1sKoS3PvGE4ESQHIAZS9br02QAy0A8cdgkx4eR7w+jrg9duAb98GvP4x4OXbDs/fpqoqjjtLZo2sjnHDv2QAKyCrF9Qxe8xLP5hjXKNBClKC9SwQu35e2NYkUM1+7gAj/YZu352Hr6W+89crG4kKOkJDfQtxs5SZ5pT8ApqPkgvWOeF8nPH2dsb3/++I41GBtlwKygINLapxf9JCg6jR4jU9xRubk9tGWoJbG9qRNSC3FdRW5exqit9SUgAJW5vW2uVEfWPeZEFjCUMNJybpAAZq9pZHnwetstX0RfP7SLXdbVK61HBppkWGKA/gPILLiBh2GMIOQ9hjCDu8vAx4fRnw+i3i278G/PHHgNc/dnh+nfD0MirQ9lYDJXRO3aLSS1lG1GI6SGbHimcEqM9MfWfQQrS52VbqZqG2gZoU2oDNpVaL7exVwqoaSgMW6jF6e89UGROzmmuo6il9Ae125KL9zM6nGe9vZ/z4fsTxdMH5vFSJJonVzhFj6Go+FmouWJ8HpiUprBy2CESy3vhqsEu1Jyqt7BMAAkYwsAUtQW1NKAiCVp9etyCWHmMAc7C1REzeRKzXUXuZdeoOoUqz4upb0t+PFIE8gpJKsoF3mIY9pmGP3bhvIPs24NsfEd/+NeLl24iX1wn7lxH7J5VoIQSEEMDMTXK6k3qBgc3LD7AFPje/WUqwZo3dNeykmtdP9ur/VRVEb3d1oCudJDODu/nwt4ArvghtIphVNCtZhiuw/UOBJiI3r+VUMM8rTscF7z/O+PE/R5xn7yedURaBFNKm6wY0Bmpyn2fFcwUbLD8M8FvUVBVTcUqLrdQYX7MTTLQIBYDN/pJo2clOVwStKV/hZXsHmfm+9Peqo9clGtmK7bXihUglNIDq/amLtDGMSdlRyhGUR1DZIfATBtpjF3fY77S46Uai/RFNdRzx9DqY6hgRh1ils+PbkzS95kde3PlsNUecIfRgAZNmKVlkjvk4axZCXzin2lmd36xTGR1EcJayZoY2qVavCTraH2TnZsxjDzS7V/JPBhpgKluldIF51obup+OMw/uMw48L5nXBkhKWVJBWaAGWAnAgLcUoALNoNIRdXK9k1ok4nSQiFn3uE8JDzJ3J1HtKapZVNc4TmRVUVsHYWE82I5ykgKFbtROqrmPu0zqr0CScBCAPSqp0SZxgaOT9GoE1gswZTWXUdkjYg+kZY9D+ZPvdDs9POzw9K9BevkW8fAt4fo14fo3YvURMTwHDLiBM5pTu4hAli5aJc+JjcQJEWUZnIz2dJ5tzusWaFmsEafatoKqNntrS1ENXH/36KJhcC9BYTQ9l64K0a/iW3U/Ygl0KihcgkqKqvMUvtBr8/1CHtbNLfpNSyjidFpxOC46HBcf3GYd3bZ6eckIqBSnbvAiARGr+LCZwgPMWYFZnqIZedSu20V7uu+nutE4FVjAB9hFWkpAhYBFtB4uCgFyTO0mcGIFb56brBQg07hKFW1qNl+SyQGCsAySQqqc2n8gi91EYvAZgjUqAlAFBJjDtEfkZgV4xjXutJPyk2dDPrxNevkU8vQY8vUTsXwOm14DxKSDuGTwBNJiNC7GmgKJujiSqKi5AmYGykFbNylQdgvrz1DGd1oyUchdrqlJNVULrXGosT7vSPtx24rpXcAWzcT3NqNuXYMSHGeX2EzyrQIpWXFYity0O/2jVEZBas35ZUrXNzscFx+OM4/uC4/uifZ9LMTZQ+4hJUGKAA0EiWmNOVvCB9W8gj8nVGLnN3e745o3wC1L1UKog870DrSBItnw3bDZdulkLa8CKnxI3KSoWUCwEQTQK30K5GDXihNho68zgFLQWSBkQRftCx/CMiBfsxic87QY87Uc8v6gt9vwa8PzK2L8G7F4ZuxfGuAsYdoxgQNMZavsMBVkiyCoQq2LVKgtLC/2qEk3v3QZsJVcVXH1erMQIeEtmbKZBb+VWa7eWnmAEFGk2r36mix5xG9bsQypFgxasWC7nZvn+I4EmoqXk1jVhnlfM82r+sxmnd1Md35aqicOyaNnidSUoc8cZSpsH3bO6nFS9NL9VcUYP6A2BjeVNiqpaRYmC6/gadGyFuSvYGKU2PFcVxY9ZtDWRr9ZWc7DS116spsBUR4aUCNdTKVi0flDkc9Fm9VwYkIhIEwZ6wkDPGPkV+2GP/W7A837A83PE6+uAl2+Mp1fG0yth/0KYXhjDRIgTgScCDXp9KNk1KRbtsXYSzTb3MXYshCV4FqScm+pYfOvUxlrTo6fkm8V8I806kLnVW6SBTssDol1nMQY3oxIylAWciropkiak6/jHqo66Ki5LwuWy4HSecTxecDrNOJ0WnE8LzqcVHmJFJKpaBb+4VFXIlkKvj7nAdT5NSK62D5rvDaiB8JZOBoA2ic1MdvtNogWooa0g6ySaEV9wGxAZGjLVGEfxSWFsGjzqPnvgrREjgUGBNHCZlbpm6OeJIsYwYQoTxrjHGPZ4ftrj+WnA80vEy2vAy7eI51fG8yth/wLsngnTEyEMQBgAHkxqGzGhqRCodfIVYIIya31Gd1hrWyfUtJicC3LKSElzAhVwSixpXAE3wsNpeHQRHZ3qWBvEe7P4DlztudtvfhJc1cNNBWavwrwKOAFhpWrb/WOBllLCPC84ni54fz/i7f2E4/GM80WDiEtWuV/7zFUvbkeHSw8ytGiGABRWW4Tc3wZzCDvbJzC1TY/J7ogmB5mTH9TWXnHyQ5f3WkeQAIgXy7EXTJq157pX6ebGvcXnFbasgOZoZ/LXzBnOI6ZxxDRG7Vk2Mp6fGa//Irz8P8brvwJe/gh4fiUF2B4YJgVYiC0eFHDJysACyAzkC5AvhHQhpJmRZg29gttnZhp5zmCynME1p5qoq5txJxLQ5BiwYRAhDVx9gmwtid5tHgAgwdhcsdJ5YilRqAwvhECZQIkQEiGuuvE/GWilWM3Gy4zD4YjvP97x9qbR+vMyI+Xk3pc6QSHQqG+y1wSqMkoHsiJql2Wp7KHT/r2fjUj1fbI4OavWXX1vbNm53Lk8ycBNgNl2qr7UP4qJ0EopW+4ZUbei29+s2QWKU/zmrwsCChHMhMBQXxcHsHW12e0Gq0xF2O8Fz8/Ay7+A1z8IL/9iPP8r4OkbYfcsGPdAHKEVvSzGkkxtlkwW/SEoF0G+CPKFFWQXQZphKqNUlVF/tmjuX05YkyfIqo225oxUgCyEIrnGJjYrieq/PlfPSwAqqCKqw8SyK5hVWScJpsYzioiBDTVCh4r2V+BCCJkQE2NcLfMd/1CgiYgGEF8WHI4nfP9+wI/3A46ncwe0jEbpQu0DBjgThJXZgs1vZlSwkZEgKsmk7R1kxuyx0/hsKyNRk2YOtgaZCjgI6oTVAEgx/1jZoFpMPOpi20AHe0xkSaJEQNEUHw7Q7GhmhEAYIiNGLdk9DOpsfnoJeHpm7F+A5xfByzfCyzfC8x+Ml2+M3TfC9CQYd4JhBEIwlpHcyHJ/maAsgjwL8lmQXKrNgjRTpcaVuDWAWkS9Z8GvKRnATKIJtHaJxI1t5iCr9d+qSqjFi/qKzeRl0a9VSHj+oAKuQDUMKWoPkjSQhcyIiTCsrcHkPxZoaU24XGYcDmd8//FmEu2Myzwj5dUkWlPDAACZLKpbwSBGerj/q2Tzq1FTGZtUa7GPzAAi1QgCV00ZVF0EzG7TyQZo1ZwXOz+XsAZ2FKqLeOtG2SScSzRh1n4AxFqq21hH5qAB0QEYRsYYI8ZhxDRNeH4d8Pwt4OmV8PwNeH4VPL1CgfZKeH4NGF+A4Vkw7ARxLAjBz0eBJqJZCdUxPSvIkqmOeSak2dRki8P0FDV38qfi9lmTaKm4RAvGNrYQ36Y2Nmc/+kph19LNwMXCjXWEhryVIibd4IWvtM916cCWyID2T1cdTaKd5wveTwd8f3/Dj8Mbjpcj5nVGlhXgDI2e8Ijbzovs6hpRu522YKsbwO0oRRIb6BSQLcWdLNavlzauajigqPH2m5Ag84Oj8fp2ilVV0vMBeUUmUuqeSAvHlAJwAEIBFzFpq2k9zAEhFsRRpdI4EqaJsXsK2D8HPH1jPP/BeH5lPL0w9i+M3RNjeiJlGMeCEIDg6Pcum6JEUrmoXZYugnwG0lyQFrasBUvFAap65r+x5IJiPjMFlvrOcnFV0WPoexK/Ux2rGeDkBm/sM1gDEioWkWMNP8jtVXGfphItwW+9EIJoGFwousVMsDqz+AezjgVrXnFezjicDvj+/j94O/3AaX7HUk7ItABRo7EdV2xSx+0qJy/gqo09ht9qX+4sIoFtsnsTSMom5QpV1U5IGyeQq35VcjnJUe+sxYB4HlQXnOuhVARNLPXIFZZaRZcs2ZRKVse0wBoTaiVi5gyOGTwWhEkUcDtgeALGJ1LAPQXsniKmfcC0Yww7bTcVoi5OJKIOabK4Ti+sk4qC6wisJwPcrI0DsxUM8siLAnUCa6m3oqX9TE1sdVrKDbRQr9T1qy3zYRsNYmq0AUt9kVsDmwyo3tReqhqqJoTHm0YQoqgkIyulQPiHSjQRwZpXXOYLDud3/M/hO95O33FczpjzGZlmICaLx/PCRqQhTmS2E229Mt7dUdyeqCBBlVosYiXNFEyUCaVG5Let2lRVfS11VRe5ViMV6C7MCApogtqJmgojJtFEneoFapcJaV18AZiyVa9SoIWYEaaMMBXEsSDuBcOeMD0xpifG7inqtldn9DgSwkg1It8SFiBFm37kpBnZZS1IZ0E6CdIZlfwoSWMYVSP2BcpC16CAUjXRGcZiwQT+Hql+su3NtgvjmBN39FMFFpkUoxK2IMvuXzOQwQPgGs3iKn+BNcMylwj334N/LNC07/NlOeP9bBLt+IbTPGPOKzKtoJiM2naQOQXfQKZGuq/C2PpuLBxcTNtkB5vNBQdVKQQu3KSaN1AotppWl4JLNmXTHNhsiNOYYbHV1+VcR0iG5qz2MCFdzYvWFaICoqLSjDIoZoRdRpwK4iQY9rqNe8L0FLB7jtibRBungGHSHm4cTPUtpBEfMOfzwkp+LAX5VJBOgvVclASZNbYRltHgNKNYsK6gqIqYrxzUHumCTnb1K1A3NovTlTSjEppUszouPcicMmZoyW9NqWWTVgY0IQQJiBIQhFpu7T+ZDFEbbcV5vuB4fseP43e8nd+xLAlrLiicgVgaU0hF/UpOTJAH9KLGLYo5MJ0d6ysreZR6UwlJi+zUCr9aC7E6lomtLJyDC3aznQm9tkKkll8ksyPJaoAQSfVFUfBDipUMKEAxxzhly6NjEGXwUMCTbmFXEHcFwx4q1faM3V4LnU5TULusqo16Rpo9YtnOl6Ds4kWUwj8VrOdsYNMe08ii0SLiLorGMpZidplLtFw6iWbB3h0gdHRXqPd7Gjj6YOItyJyNbRsVBZxqJcpwERUw1Dnu+WvaR9VSlqpE0+/+7YHmUiZb/cVcCk6XM87zCZflhMt6xiWdsciMRAUlWgSGgYnJYsAp+zrW+BBSW6togJ2uyMY4NhsNUMZPbw7AtcYI0Ojnnl/0ilN6/v2PMWtQAEApeRd8bEHIwlRVXXGWrS7AxoQKasaBfrEzpSbuKEPCisIrCs/IYCRhpByxpIDLQjjPAIUVuUSMEpFKxJgjiM29bkydFJVY6SK2B/JckBbtD54NLKRR1XrdWSP0NUZT7TGtd5lRUlEVM6E20oAXOboCS+0SU/d6rQFUta5taO919dVVguyLnVQ7XH18ag7oZzQqyMO0KgFsN+y3BxoACyBOWJM2pTiejzjNZ5zXMy7pgqXMSDJr87hgLs2ATnqZrYWOGHEJldVgRy7apCJ3vG8HNJvdxu6J9RfT1z2io4ULtZjb6jKrviRUmwQGHO6yBkLRxhCAsohikhhQiQaLaPBj61wydpMEwlklasgovCALIxVgzcC8Ei4zMJwLYswocsGQIsZ1wLgMGKYBgb1dsEVeFEae0YEMWtFqbiUIXMpQEIs6FHh1KbHOOSlrI5GSSuuF7RnYFWjeg7snOGi7+Z0U1JKMHgxaw9k8YKe/j7AFlNq1qmiy9YmL+v9EVMHPaFFB/wygoSDlVUt8LxcczyecLkeclzPmdMZSLkhYjP5WKpeN5evrOFYphga2ElTlEet7TCwa91bEyyXC7SVnCdxnpdJjCzYz+1rccZdK1kp4t3RgtoU82LxCcMe3NdrQaOXGSjplYHalZ4vXcyBRicYJhRiZCEkEay5YVsFl1kaJxAlZdhjTgHUdsKQB4xoReNC+bKR94KgE7St9AZLFMHqpAu8CU9lctqJGnkaTtV92KVlL8N1INFijQzawdRLNgFWLqLoq5/dCOrA5sPpIlA6T/YpHLrYMaFRTYrDpAVJIkMgTdf4BQNN0BvWbzcuM8+WM0+WE03zGZT1jThesWYFGZCFHpBESsGYQuuJ6+QKXZga4IgALJJUGMl/tKmrY7KZi9pp0GZ3QSV7/tftdC4BaeJcnqTapVlSamarJQp1zXClolWjowNYBzc8PDjDzRRGhcNJqeKLO4DVnzGtBWArovAJYkMoO0zpgnAaM64h1GhB41L5sPCLQCJZBATYT0kyWZ9akkBSAoaKYAoGDlusrpQCryoVctFR6caBZ+W+vKVIL+EgLrRLrPFqTNjcSDU2qQ/ynw4yunjVpb+xzkWwhYJN6teuwgc3vYyGxafAPsNGUZRekrPX0zxeTaPNJJVqescqKLCsCi5aqZzJbQyrYNgG81MCG3CZpvRmk+UhmSrlVUA07IlJPJquRJ51U8zZBXlSmL/IpVilLjAgAtCE5h4ZbZzg9w5hFbUIyNbUFR6MhGmhAqwJAzyNDkCSDc0JYE8JSAFohWJDyGes6YkwjxnXEuA6IPGmTRZ4QeQeWAXlh5JmRZyu6moPZRcb8kcGfRdXHCEujcf+ZRoLkVJBNmmEhYCUgBVBiUGZwDpAcG2XfAcxt3RY9uhVWPldaKoxtpQdaY35BSiRprKORS03R0MgUpxzxD5BogKuOGfO64DRfcJzPuCwL1pxRRKouqJPMatJKspuiwbrkrCOJxjqSgJBrjUDlyKVKDiWn7AY4CYGm31NFh7dmjSoZSSAWZVzsbLx3WqEMb0RYanFDkww2gbK5CzgXKxIkdc54sDKAaszrik51wddalRlEgkyWA0eMJBlrKuBFAGg/7ZwHrGnAsmoR1GEYDGCjgo0mEEbIqk0wyhK0Rn8JCDTAu59SiCgSWs180TolOWsBnnUuui2iqufCCrKVEFJAWSNg5RZyGlDygFwicglaulzc1wUreiR+2VAzyqkDEPJmE+h19z2Kxpi61CS38VwVly7DwhbYfwbQrIGFA+00X3BeZyx5RS4F8EIxFWQwWsLocRjFj4DSFR9Vpsxsp4imMrJG5LuN1uy7FmBcwUYCUKgAEwrqTxMygOk5CYkycOIREXbw4tSyIoWIwVTU+VykhleZOd8VfSXz/5GRIbDvU9ARCRJKq1EpjETWR0AiclmQkhbaiTFiWHQfeECgnYKNRjC0Jr/YhhTBGDGECUMY4T0EWgUwQAprVecEpFWwrgXLUpAWGNACZAVoZXAaEFMEpwEhKfuZcwTnCC6MXKx2SFMovOhy00rQLYK1VLomw2n31QTBqlpIyRDKapObz00sP42KmBRVAs2LqwL/AKCpGl2QSsKcDGgXk2gpKzNknL3YJ4pYQe0qxQheHlusk0v1dRW0zkjUjGPnITQVRWoUegObtj0nCnAa2YujFbCdT+lUSbVXSvcPpUCYwZa8KUzgUnQVzyp1M6l66WymR404yFynIpEq0QUAqIAJSBZqppI5QWRFKQE5BawxIC4BIWr5uBjDxkZjGhEwanm6bPsyIdJOKy5HAmJEcIaxoNVjLCrR1hVYFzGgMfLCauctBFoVYJQGSBohOSLkgFQCkmhmOAshE1lpEl1M1W+I6vao7jeXap0kgxjwJEMcZKxdUrWCc4CldRu5Ih7YUtlq4B8ANEAgRu/Py4rzcsFxvuCyzFjSarYOV6CJ+JR0SdQiQpyOd7aQzCBSU8dTU2DFbaQDGncSrRj9LUp/m6HgDGFBUaeoEISk6vqygZhHTBglbVEl2sq2+aLYVlnRX1hHtdJECZcN82hAI1L7TAPodQ9hlExISVvfcmCtzWh7zV2LKslosGb1E6hMoLIDywQuOwwx63WBAjPX2veo7ZZKBlJ2iSZYZ8HqEs2aa9A6gJKBOE1AHpAsJ4yFsIpH6wtyZ197eUtPTYJJ8KY6bsFW1UYHX9Hi/+qQb2XuUKQWE2N4bTMd/wCg6aRKUrDmhHlNmJP2oPb0dzH2rU4++xRXaYa6qYoHs9Hsb6Bae19IiZOqltRSBm6fdWRENZg9ZMOiDMgNeLUHfd+S3rrYR8DIFHWIV0DWqAq19yoLihb5XwN4BRbBJyCTohptIgjGnGWz9UpRWy8RwEkbDnoOm8ZKRrW/aDDAzWDZI0gCS0aAQEpAwIjAEwJnRNZqw8muOYtJslWwJtHHCVo0NZN12WFI8QpVmt6CEhEK1YUl+AToJRaZpIc2KMnwkhHdvlt8yP0rdYFVm7kudkZMid0Sseh+iNnmdqv/MUDrSaRStFBU3ZL2PQbQlHZ0+VvQVAlnqzRwwK0eBY4HtJKxdv52/7tKtOohtfMycsWP06VxoH7O6TK9k2zMV6Fi0kyzfsm+i7h0ER7VbQpvHliNleIVsTw+U0Haju+b+2Sl4bX4ImIdb+zYSqQOKKTHKZShlbs0rytIgGBAQLLiOgWJC1bSmyKhaEeYlHGZC+ZFsKzqLE+FkIRMzmiWgzfblKApNfAOOy6cBFVtly74sJAgWqSMas56n4sEFAnIEsElqtOdua6Netiu4nFfG1TU5+q1XASoIAP+IUBDpVzJI6VgwRxax921gapGAOgnfsfnqyumVKhQ/yX2uWpg+6pWT4I6+IiBV0WhYJsvZWdgBItYZ9xSP825mL1VuVFVhYKFi7Eneap6WMjSNtjsys51oECzXkimQhWSGl/r/t8i7bcQTLhSl9JPFjOJjEAZhQYwBFkCAoJmPtOqQOOMxAWJjQXMghIKImesHDDPBZdFMCdgyYTVMpkzCL3brIZPmfiqJTNdy4eBrQOa2701HFk0ZrEI67lKREaE9zFAdwdVWFkrx05tLFLgBXxcXa0fwj8EaG7i+nzNDjK3DQxsbl8JkU1UB4KVJDOCQmevF4V2e65BjozeciLFo/xRjWNCWx8ZHoog0lUJ8cliKg8RdDKaSlfI6eQGZq4SjVBjFv37DMTFIiVq/zCv9wiXgGqjFFcVAzV3EkEDkf1319AtvbgKdo3+z5QRkEyiBRRECAaAEgI0OHhNqjaSFBQuWhiVCpgy5kvBvBSTaGpvFQvezaRB2RKoauZ2eiptXHEoLtHErqHGhyrQ2p2AAxgBUaJKNFgdES/3QLo4FVtwWq8ED352Wl+1HS5tPgC/IdCkTmp7LvXVqirUun+FrMostZsDsjZJMDvJ5QXbcT0msRJ2lgvmKh7MHwUtREr2Cc+Zkq26qUczV4FlCdcwoR6XBjgmXf2JROvoN2iCEDQImkmlGrXf5BaHl53zHmKlrwlpRAAh105JnoyqRVdNrdTQfAVZjbtUu4VMbWSzYwIRBCMiVmQkEGVkUpsss9pd6hXxkCWlxmdTHeckWLMgFXJir0pZsECC2dJGYlnJxVbpAWjxiTDgQXvX+awoEESQxnVSAItKM66LbEePecCwOIGzVR01SEDnnM8X4DcEmv6+Rm7o6uN/VAYwcECwlJBAobY8El22FFwFpu97NL2TCF2EvV1+Z/OrVHMzQRrb5zp7s86aM7OuyU6C+LmyvrfX9X3iSBaNYOmA5rS1louD1SgxlbUymc6SmvoIQKPNfaKoa6MUoJA6e+tvdpXXTlVJAs1uMOulKrIeoaLn5LWl1EHNHAEKEJhNVNjSTVBBvywFl1Uw54K5CFYpBnqBsKrNYtKQpICD0hreVlhANYJOFz9TFqktus6y1slCfj01IFpMbdRj2mLVh3RVgtIMfyFLP/J70vSc3w9ogNljusqkmiCICrIYAmKIGEJEtC3nXPV2JwAr2My2EVMHdAVr4IP5aYh0/bM0LzWHfDWVdlNd1dFJLxWYMFXTf4POWVEViCsObS92Q22JICuuSlZFywEHWzg8DKkLJRPyBcnPye21q7QdtIrHDlyIHcpXkMpUavZAYELkgEARkQZEjIiYtKQ47xB4AtMIYEApWlu9ZC3lpt1XC5ZUsOSCWTJWs4sLCcBBfZeivr3aC861j8IKxGr/uo9Qt0yNrPfWTtV/2C4wUIFrx/JEUeHqnGar6oVSark5tny0Zt39pkATtP5XWTTnSaArawhcwRV50FJqISKzArJAmm/EHdKMmvGs0o2bVKCW5UyiTJgLIGcnW/SBn18vEexFm8A1BaYKOXWoU/eyArBR0E1ysEYkEFp/NrgtZiswmr8P5qpwv3UNXq+Sz36rTzYHmf2a9tSgaefKDMRAiIER+QpomBBpQuAJRAOAQSNNMiNniwbJgmUVBVkpWKRgRdbzdC2+Ao1BkrTKstQlTHVL7k2HRoJsQVYqu+pA7G1a2O+vICseo1msZDoAKWAHmlTdCG5xA78r0AS1NJl3GNHJravsEAKG2CRaCAMCm+ffw+Orrm92jRMk4nYOVUVJPLLEDHBxiePCg9pEhK+uJhEAtLmL0j3u9UVFQFXZbJKT+36o21Btd7B9bzEJCzTbpYKtflunEovZQ/Ybi3ijCLUjm8pr52mgJdIMhhCAEBmDaQ4RAwZyoO3A2CFgBGEERCVayoSUBIs1GJzXgjUVLDljKRkrcv0ecHWrd9IsqW3dvGfKsqLCrF5Vl2KZigGu2WuuZrcmjgowsc2pWC09R5Y5Yba3FDs9+r0lmtS9qWpug8DUOmYEZsQQbBIERNYtsKktUJWgGNh0c9XRV34jSYQtBlHtqY0kq3o/uj1VP5uLObeV2txt62oFGNyI18+plCQrqiPdVuCdolzpA7QmCEjniIPV4x/t4FU9chVRRCv0atQMW6Bzrp/VGiqq0rKl5RARBqsDOQ4TxrjDGKwDDZ4w4AkRTyDZg2QPlBFUIrIECHlKjhIgSylYRX1siQUp+CIkzp5AKHUR+mwSzq+js72u7vvMMJD1Eu0aik23VxXZFlc9SVImUtSx3rSAUhlg9zr2R/2tgAZ0ot/8XjqPzGYIusoOBq4hMCIzIhMCkbeHQLYQCC2UI4D5ShobCVAnjvT+N8VQ76nre3Y+Dia3yYgqU6I+tHZT+lQWureZbXQNsG3xIL/pVC8HmwkDoLMvAWdVdYrom4rbJ6TEhRZ11eulZFJGCNGK+RQwF4RQMMQdpuEJ0/CMaXzGGF8w4BsifcOAV0R6BfILSt6jpB1KHoE1gqVoz4KcNQ+OgBwsCMp8elIECAU1cSF15y7Jwrq8Z4Ea2rUZYLukG5BVt4ZtXlWnscQa/SEiGm9cGtCUBfVvgh2VkCHwlKPfNjJkOxFh1XcJoUozxmBb5C3QAnl6WWmBokUs/MmjCAwIm1AqG9KBxo0pcaKAcD2cinYypNpfVS3yxzB/XANbUxPFQGRRCXZemnmgq2wjZtR+0oXe1OFqszlZok5bloBCEbW9LzNCEIQYMISCgQUhKLgia7JmCKL9rMdnTMMzduMLpviCSH9goD8w8B8I+AZJT0jLiHWdkJYBAsZa9OILkyZMi5IW1W8VpSXAWrUsrb1imoVJHaeHCBZ3yIC7IJyUUiWlESGeHQE2sNWoGpN1UiC5VAKEhKuW7zjOpFpGcdJmcz9/M6D1U99DklytURaMMLBJtStpVtskwfUBTYPwYFGvq98Uk/5/QdVSOjBWldCZvu48dZiyYuqcoGqLze+D5pD2RaS6tUmlWk0ecElGTXmqMZcGMjEm1ZszoGYtsJ2RS7QAESudTREUGByBGAXDIBgjMERBDBrOFIMgRGA3PmE3vmA3vmA/vWCKrxj4Gwb6hoG/IeAVed1jvkTdEJGEwAmgwOq4Jq1OUADkcBXylAklKGFVSBsFSklqNwfvhdpq5PeFd+rah55ptAwJMrDVzQBXmzear64AXFRSFj8ebRXFYsfr1+HfCmg+9IK2yAwmlWix2mdsgDOgMSO4hBBoxPtGkhn4SlNH3aaSDnxV5KEDj/nFpE74pka2GCFpBGTTQK/A6WCjqgZ63ApVFRJAB0J/7NIMAMCiteLJMgisSKyt+ZVpZAkKtirRAkIgxAEYBmAagTECMRKGCAwBGCIp0KZX7KdXPE2vmIZXDPwHRv5DgSbfkJYJp6B5aCKENQs4Cihxk2ikUTx9rKV22LSIDJvoxXLXSrZIEWjRtyCtfPemiXtnpzUmslMdFUno4z81JUa/kKzaFZfQxalaHKhLYGiqU2lNrH9PoIF8DhvIHGghYHQihLmTZC2kyA0Aqr2YTNeqh5b6P9B08EZwdAyIeGSInZS0o/TSrAKqItfDGmo8RwWlkxkblhENiK6m+qTyc/Jf4QSIn4HGfFpkjDQ4S/0SK1YUWNXGgTBNhN3ImEbGMDDGgTEOhHEImMYn7McX7KYX7EYDGr0gYo9IO3AZAUTtHRYBDqTVuSIBEaCRtM+YSWZLTNCTthg6baCIjc+4uABZdeEpJCAWa0rRNvZws+pkt2IfblfZPKisrjW7YGts0RsArRU9AG9LZQuckyQ+fk+g1VVdV28mjQCJHDDEgDFExBAUaIDdhB5cFmIkbbVS6VjhcWOeNexQm+z9bekAWaEopKui7astgZa/psfW71M1sFMjnesgsb7TzWbzq+CHNdO+Om4h6i/LhZCypeS7zKQeaA1wHAPiEDBOEdMuYD8GTGPEOOl+GgN2o5Ig0/iMnZEhXJ600bxEIGuiKkXUhh8SBIgCGmC1T3RxLGQpOKQbsoWfJSjgvOyzXxEiJbASrDUUtHhSrWjkmeldbpmFk6EHX43nVHuMJSLIoNqBNHe+W2n1Lldnvt/7lgX4WwKtyRVVH5lUbVQSJJoPLWjyIinQqjQT18uvwEYeLNJIka2ActG1FVH9Cth/qIHLzrZKwx5c1eBrq2VVQaVKJoZYLqpPjlsneRWW3RohBciZkEqbHHWBoLYRE8gl2jhiHAfsdgOe9gN204BpGrGb9LVx2CvrOD5jHJ4whCcg70F5AuUBkgIoEbzZJgLUgxAAGqiq+tyDzPaSRRtnWAtbBELzYFvBVAs2lgSt7ZJ7sJkK2IGK0C+u7Zo3P6VG8wuGOhc8zrOmdvr9AdD6tKod7PkOvyXQAKjaoaxCUx05GhGiqmMk7tTG7oKXTrrBA11dPWvxgfZNbSfte4maRHM11kdVPj1e0u22zfEa4JqXQLr5L92euueorCsR2vliSxTpT24SDeA6wQNTbfPkGzOZ6hgxTiN2+wl723a7CfudPh6HHcbhCeOwxzA8IfIOsk6QdYSsAzKsT3aA5Y+5RDOV2IirQhZGxYxiQCtJQFY6XJK0PgVmWwIK4D4cEazpLNxSuGHljeumLHNuYDQu0dvqBhlQtJm2AhNU39MWVy8Z35zdzQX0OwLNlm63T0jcTnOpFjDGUCVaAJna2PR4+KplOrircYSWBuHRJq5i6HfT1YlcqY/69vopjzHcikaYNDOQVvbRJRka4LxFU10M/BxNfZUWneLMmK6+qj+qu1AlGoGM+ydrAKgbWek9CgwOAXGIGMcRu2mH/X6H/X6Pp6cd9k97PO13mIY94rDDEPcYosY05jkic0SmoBR8IG0a7+wTQ2einQIHi9cM6pLJnr2dBJSKSrNkK4pQjyoFn7/EJvmKxk+yJR5SdcT53lRIeFSQin2uNpqqjhCrFWLJtDc3tWozLtN+R9Wxs5mcIq+vVy7BaG1R4A0cMQwDpmHCNCwoWcvShaQVehUETcp5aTnFood1VW0ersjpuI116jTBm3Pemtn9K7R5o99GQNR5Sh6I3AgTD/BV6Va2F0GgbgthTQuBbnVBYAFzaaXB3ZnrHifrYVCsFr4UDckKxOrADgFsLKWW0gsQWNJmEqS1ICVoiYJcsGbBWgpWyShkDUa8GjAXIIg1bCSr8MxW0RimZ0SAIogiCkdQCKDAKjGXorcjZ4ATJCdISSBZgLqtKGVFwYoiyTZnGgEPImYJm/VQSaxuESbXeKqFDVgmAfA7AE3uPO73rgnYY7L4tACNwxvDiN044TLMyDljTQkLr1XTZgeVGdRiNtpWnhnACKgBWI3Pr6fnwLF7VF91cqL9jit1FLRVBzs7rd5gVyPRSV9SYkUnhANGr4EUzyhmJKGaO8fuQ9o4bzO0CljedHcpOVvUhJ4sUwOZb5oKQ0rLZ0FKGWkFksUyaq5Z0YBuKhBWieEgQxQFDZMyiqxqJwdoe2AKIAoo9t0IrG2LA5RZWQuQMiQlCC1at8JBVlZAFhRZUSihwMr5lVxNNmUeA0RitaDFr3G1k/26+32lWmDJl8b/fqD5uAMy71t2DTiXaJEjxjhgGidMw4Q1JQxhRWBG7egJNaSlZLhztw9QVeLAax5tss+6zc+Lur+1tzb18r6aqY9p+2dBvdH60R5kbSLUM3abkQQo6isrwkgSsFosBRMQyPK9HGzcSbQOZLW7i5dZ85ZP3Ek0MqYDqo2lVJB7kKVSpVqmgsxF62Zy0W4dDjI7FDGDEsAZKEEJGqYA4QhSXwEQGOJ9s0kA1j4C6hFfFWzFQGaPVaI1aeYlClBQI0G073WnGdhj8mtvgHNLTWeDp+78t0s0+eB1N7U6sFWnP9RuiyFgHAbsxgnTOGJZF8whWjIo1XslXYJZyx8zwJDnaZEvdc1qM6+12HdK/UsPxO5Y17ZafUTbV12ydX46qm+QK9XR2TEHm/6WUpo0s4wurXjlUQ1cICbJPPNarLZhyVlBZhINxVQmBxkFeLMQy4hDydo9Zl21XZMCLWPJBWspSEFjGiWYuhgLKPpjafZiBCgTOBEQIoQihAPAERKiMo5W8Rn+WyhDrIw5ZFGw0aLd6mlFIQMakhWoVVtMTM1mBHh5v9I7qcmvtXopyW1GA5n8NmTI1nzphmzAVoFmNhrD/GoUMfCAMYwYw2A5app93WwusUjxUp9XJ3P1gQEeRKyg0jconV4tqiuwffSjHrzqv6F/1c0yVy19AgBtZQHBlmdL0XGJZmkwdkT1WYvZZ9B4yEqzKNCKJJQSUXJSoGXrA1A8FrBXbZ2V6IJzc9FGgrV7p6qNWRzkAgkKOGF/DJ2pDK2p79IsBFUfg0sytlbUpoaiQIvYrSiyQMoCCTNAMwC1z1AWFCzNRiv6u7yEnM4dS4shqx0jAa3nE9cFze+JOZU29/K/G2j9IKDGMbmwAXDdH7p3gDJpGTlL+qgpF9WXZBe5SsdiwcIk1S7x79WIAm/hrrPe3Qu3KiO1xEqbjJXmx5ZA2a4m3XG6BUbNSFctyY2LKmFBxaLxpVUBA6BNJbJCiakWJlJ3Uqwxfo0Z1wYVJa8oOVh3l4SSVpRlQV5mMGnlKHbnGAD3OxEVUCjgUECsjenBGpnhJQaKnWORLoHFQEvc7qGwVYo2NwDM+Q3SepYoSReDMqOUC0o6I/MZQhdUkFUyZEEqi5Y5LwtSSRC3P4vUtKjq6PHS6Z15UF05RLboclPX8TsBDbcgc6cwAdsin6y6vWYkm/QS54uoAs4ntKoQYnkmBjKr54E6n4smBprEUhz6pHfVT49ZIec0PrXvcr2wp4bdwG5g3dp5VcZ1qoorqxAx9tALinONIdTupFp7kQxodX2xYNq+gnApAaUESA4ayJsNZOuKvCrQAgUIGMWqFuvEMzcJCzhofQ8OGQjZ1LrSwqnENrSAX/i19BopooVbJbA6rc2OK6yfQUlAXiFpRckzcroghzMSnVHoDMICoAFNZO2AtiKXVW1yZ0R0VYJnzXrgtdtqzckPjewny8j+rSSaS7L+aS8MYDeok2jaA82lmRu7jfqvYDOcqOpjKhCAiq7uS/UUSn3B1UWYLaW2m6uN3daF7WwB56oJ0DzM/kVb9VJxT9vXq8RtQbQFQCLNtxMAYMsINtWnfb207i5iQMukNT2sNZLkrBIjrSgGsjyPKBxQiMEhmkpH8DJvbI0GXZLpPsGDCF3LL5Z469GIbd0jJV1gkkwcaKQsf9BfWkqC5BWSF5Q0I4cLUjgj8RGZzgBWEFo3RDFw+Zbyagy1op6ElEBiD1loW5VotQ+dzaEapPnbSLSOeesXfFRBUlVIlWah7aEbVcnWpNvmzlfVsVuoHGs1csPssu6LPTJAiDqwuT7fbpJjR/rz7n4WUF3buAZZlWcbIqW7CELKHALawROahiJskyi0MDNfoZtEs+BdI0+kuA2TUFJSyjytKGlBWWeUZUAJKs0kRUiMINIkycqCuuoYFGTEJtHsd9VSgK5J+GLlhp/HXZIxeibNpKg9RyUrhb+ukDgjxwtyPCPxCSudkOkE9WKvIGsbKiUhS0K235dL6lxBuvdwky7y1RZHtqsuVaIRcd3/HqyjD7l5oMPnmzFWzIzgDRmCPvboA9YYEVSAlWYbbCa9NLlVBY/XCqhfKe377Y1ikrcyU67tmaooFYjbx1XadTachxt549ZtmOstOyRo3g1VG03FYo2S0BZDXWSJf8JEifcBK7k5fZUM8U6cC0oaUNKMkly1DIDEpg4D5nA2cHMGm1RjlgqkpqA0CU8ONFYJRuzSxe4TZxW9ECDOKGFWcIUzsgFspRMSnZBwAkgBpmVTEwQZWZoPLUs2/5mRRnZXvYBrLRUvvF32RONqSZpZ8vtItGuQ3eENqjQLwdoLRW01FIOBTjuikK1OItAs3kBdnKKyS1pTRPcQk3AF1V8trg2iAa6ZauoecA3Q8ebzagsRg40TJkAFYesJIAq2qnbyxnprQk7ZvEJW394b6kkBS9JmgwbbIK0+M3nbotI2B1nOCTkvKHlASVH3JUKKJYyK10W0s/CcHotxVKlWqjrpcZZaj0SpcTawFejfhC3EKnRqYhZYvXRNGuULsgFqxRkLTlhxtOf6GhnINM7R+mTDkz89AbTF5ZPfa2r3oC4EwtWtRgTNh7M6oaot/S5A68e9QF/A4gKp5lRdb1yBRtUOKtbLmLT6TJV2ZPLMK9ZW4SUdyKjTYsUUvwq2HlANFuL6XwUSNmqKr/LSMZNVktUV1t7TfrodW53QhTXESUj9YSQZVBKC+dk8mKImwEoGFbOlDGTKOiaUvCKngJIXpftLVLJEgoHN4eo3oJdIALGBLFh7YPimkqSYMg+3x4gsAFmBJhGA+wfNBs05IbNKsUQKMN1OdUs4wwG2jXmUtuDZxuQF4O0e1Wuui5rp2DXSnwBNybJ/7Kwr/uuBJm1/qzG1YdQwB82pCtGa5nVSjVmBRjBbrBQQBY1KgJcpRRNhTskD8KzKHmT1v7oKtsf+Sd+akUXw2olNYjnYOolWAWeJO9YUw319lfWsV8eiPUJGCdbE0DpaMjK4JJ0kToxUsOmEdOrRndUKNCVGcl4VbDkqCA1kXqZNf1cAiC0sS+MQNYzKe3Bb1jJaMK62wtUIHaXwtRe3SjS1x9Ty7HqYhRWZzwoyOmAlB9pZgSZnZJzRp8j4wul2uWoleg49x0j2iarWGiIbgaY1W4I19Ajk5oiO/3Kg9UOuHvfizNXHpkK6GhlCJ9W4MZF1WSvtYiqYnPwwpU+uv9rtqXYq6gvqACaEvtFCUx0dZK42orPfsImfdCmnoEM3Hdym83NEC6MiCxbW8HdwyWBOCJIb0ECWIpbB4iW3t2CTnNSPlpXdU5Vx3oDMLT49cLQg41KDfjVCi1zIWRKuFyDVzxNYu+CYRNNYSC0xUVjtSLE4xUwrEhZVEeWIVY5Y5IBFVF1MuGClMzIucEnowVLOZraN2mWkdi3rYlevtctcSzAGIVDQzf79BkBzKXZr2dRB2xd6CeKxecGLqdoWg9Z41FAiU1+8ym9VE6vVhuo/qakmV+dH2+8nPQBc9LmfaAM6NHBKDeNSUVPpigpWbyHIdQK0qEufMBpOJZwA60NNsPZKpajjuthkF0EQTR9itIxnFtHID8/ZEpMiYu12JaDIrCAjqzVCwUohCCiISq5g1bS88hhb5D8Frc2PgCAKdW3lxrVuiGr2glqlqnM2L3nGki64pCMu+YBLOmJOByzljFwuSDIj4YJCC0Dq0yPrNa7aDrRmoxZhQa3B3mkUVXWp08uVSLNviYzHjtr0iZxg+68F2u201P87G41w9Tezl7zYDqkTO4aIOAwY4qBAiwNi1DLhKkgMELlJKYKWpqvRJDU6ixqae8Fydebi51pJDje2XV3cvr9AjEgBPGCVnKGEv+YqLlVDvmK+gkw3stZIwQx/L7rKQKsGJho8r1LGweYSXQDxZuoKtCbFGIII0KJ+NA4aMlXItAirZMxUk2+jSYEoEZEikpEIGYJSfR1K6GhBN2UKC2akcsGSL5jXMy7LGZf1hMt6wJyOuKQj1nRByQuyWKgVJW1tFUxFFoHX6tdAaAMZWqsuENV7A2pMowNMu9NA+8+4jWa/6b9Yom3tsQ2VLlfvw3amtw6X+gGyHKohDhgGA1ytyx8aKASaGm8qKEgqQ6Zv6ABWOoAJjPq3s6E75+OPr0DmYBT7cVXC+a8WB5yrM4Ji0PKpoH+XKslACcQrCAXBA2JJKzeBjBgstpCAVLJ1IPNefq3cg6qhCrI+TCmaVIumNqrKjqgsYWDtgRA8eIC1XEDAUMGWa5ymgayLyCTKgMUv5nLBmo5Y0gmX9YTzcsRlPeKcjrikE1KeTeLqIiOUTIoZnoKAo7kkElDLL3dbVRWrU9rmT5VkTqiSymRSGy3+V0s0uXnQnt+RIPWvZit5jy2XaFpwxkE2IJoKGULUJEcRTZnovMmeuwWrXOxtngBXbapt3fnZUN0A9cw359uCla+JEgdkk2DckSYWYgVTJcXBWMUvxEAG7iSafReZfQRqMZ7kqqNswVaDlmv5tWwrkBUwFUBgADOQIUSNgC8RKGUj0bTMn05IlWQKtiDR7qflwsFCtCxeUgmQFSILUrlgzSfM6aCSbD3isp4wrydc0gk5L5r4aaqusp2KIQ6mCRRSBz4LavhbrzqS6wa+12gXhnstyPzmrjrqv/j70PvXYPtgdISI2mdBQRaCqothaD41s9/EiQ8DmwAWQW7Lf+mpdI/6QOUk6uavOzt5dV79T7nhVnyjJuG89HRL2ECLtO9Ilnps0phCK4uqv8dUwuKkT8egQbxDmILNIy/74KMqaUyqFSFkIWRZUWRVlRKqWgIDAE/bUQKkVo928oAZXNiYOwVtEb+qBuq8otCMTLPaXPmMNZ2wrifMy1G39YRlPWNJZ6z5glISKrsYxBzc0GgSPzSrZNef3qxvOODgCxFsr6kxfW1NzeejunAEUn+aS8D/PqBdqYg3GuO9j1BXVYkZISoJEoNR/CGa09roZ3YqwY7uth10ke2d1K0yqVRfmjuvzYOpkoA77FEHSEfetXS7kmytTmBjLGuhM9KTIVv5m7IK+/KimdMGMgasApupe96sWkirFxcrROoOZMeVnyaJNaR32HsKDWuZAyt3INq/WCd3VQr0Avk/JUKqe9d8UqLqackqjfKqfjuZkUXtspUvmPMR83zEvJzqtixnrOmClBcNqZKkQPD70M14cdDZ9fHr3FmscLARPEDdCs9u32F+eC1t6O4JMlsa+K8D2iN77OGL9fUWgnUVHRKi+dRCZRqpUuhbW8mjOmrqkUsnTeSq94eMtCBW5NWai+7cdBubxRJK27E34AIqqLago6vXzUarEqyFU2liolL17lytrZkstEo8lq+WBVYViJlNZbwKhSbfWva19qHT/DLJ2TYFmhjYmmg2GWCahQOtRqSIsZvVSe5uhAWpzFjzGQufsKQTlvmEeT5iuejjZZ2xphkpeXCwBVCxRbKSqRVeiZpV9bbboLfVJTuadPOgYaIbGLaqeeTSv/kCfQX9LwOajy2gGsRujTRXV/Smmn1gEsxBpj3Sokm8G/FSRYqrkv7t5MSHESReak5IVz8HX5Nozc6pX8FAbRfqsohMglne213g3YCtVy0tnMjsHLIM6eDSeRMobH6vQlqH20DIMFWuLhK2UReAbJkBYoVJs5DlgGWUXBrYPACjOoW5BnIrUxc6P5psJZpF4pe0ItGMxOp8XuiEOR2xLCcsVaKdsSwLlnXFahINVc0jZT+9I1A0iVakLky3/khTIamTavAeDa1XQw+6LrtxQ379lwINN1i4AzEAqAQDM8E7dUaLDPEWuyFGbUUUPBmU2jFsohd3C1xz9uLpJSpVvIx1dZRfSTM44LjdUl1Km8JHuAJZ52srYkwimiS7BWIDmZeqVhKjSRUtztMChqVYdLo1XmQ4yBrQeo2CKvLUXtSqxxm5eHZyJ9FqtnKTZlwB5hKNsJFoUkDFJGNIGn0Ctc9WXLDKCWsyaTY3tXFJC1JKSDkj5xVUtJuOsNlZRlxJlub89szuek91rniqi2o5oZNWVM+31YAVrwWLPmDPp1J1tfzOg7oH/SpTSaX6Jjee2nCVscmxTqR9YB1Svdz9WfSvOQlx+1m5fvYzI/T6U2b79c6CPkpve0b2uPuJm9e7/2+XM5ef23Nwv6AztbeL4Od+jmLbFziXnu1x6Tq9wMoloDK0bQHqR7+GPvxZ259z8552b9tB+ue6ztLm3f8IoG3GvbnycNz+UR68/itf6hzIo/f9qYl591DXR7o98md+SfvUNZj7h3L7ns98xwc/9lPX4c79vKP81z+6QnKzmN08enSQz5xVDz4d/z9zR1PEYTq7kwAAAABJRU5ErkJggg==\" y=\"-9.960276\"/>\r\n   </g>\r\n   <g id=\"matplotlib.axis_1\">\r\n    <g id=\"xtick_1\">\r\n     <g id=\"line2d_1\">\r\n      <defs>\r\n       <path d=\"M 0 0 \r\nL 0 3.5 \r\n\" id=\"m95e0482b69\" style=\"stroke:#000000;stroke-width:0.8;\"/>\r\n      </defs>\r\n      <g>\r\n       <use style=\"stroke:#000000;stroke-width:0.8;\" x=\"33.766443\" xlink:href=\"#m95e0482b69\" y=\"227.960276\"/>\r\n      </g>\r\n     </g>\r\n     <g id=\"text_1\">\r\n      <!-- 0 -->\r\n      <g transform=\"translate(30.585193 242.558714)scale(0.1 -0.1)\">\r\n       <defs>\r\n        <path d=\"M 31.78125 66.40625 \r\nQ 24.171875 66.40625 20.328125 58.90625 \r\nQ 16.5 51.421875 16.5 36.375 \r\nQ 16.5 21.390625 20.328125 13.890625 \r\nQ 24.171875 6.390625 31.78125 6.390625 \r\nQ 39.453125 6.390625 43.28125 13.890625 \r\nQ 47.125 21.390625 47.125 36.375 \r\nQ 47.125 51.421875 43.28125 58.90625 \r\nQ 39.453125 66.40625 31.78125 66.40625 \r\nz\r\nM 31.78125 74.21875 \r\nQ 44.046875 74.21875 50.515625 64.515625 \r\nQ 56.984375 54.828125 56.984375 36.375 \r\nQ 56.984375 17.96875 50.515625 8.265625 \r\nQ 44.046875 -1.421875 31.78125 -1.421875 \r\nQ 19.53125 -1.421875 13.0625 8.265625 \r\nQ 6.59375 17.96875 6.59375 36.375 \r\nQ 6.59375 54.828125 13.0625 64.515625 \r\nQ 19.53125 74.21875 31.78125 74.21875 \r\nz\r\n\" id=\"DejaVuSans-48\"/>\r\n       </defs>\r\n       <use xlink:href=\"#DejaVuSans-48\"/>\r\n      </g>\r\n     </g>\r\n    </g>\r\n    <g id=\"xtick_2\">\r\n     <g id=\"line2d_2\">\r\n      <g>\r\n       <use style=\"stroke:#000000;stroke-width:0.8;\" x=\"81.660716\" xlink:href=\"#m95e0482b69\" y=\"227.960276\"/>\r\n      </g>\r\n     </g>\r\n     <g id=\"text_2\">\r\n      <!-- 50 -->\r\n      <g transform=\"translate(75.298216 242.558714)scale(0.1 -0.1)\">\r\n       <defs>\r\n        <path d=\"M 10.796875 72.90625 \r\nL 49.515625 72.90625 \r\nL 49.515625 64.59375 \r\nL 19.828125 64.59375 \r\nL 19.828125 46.734375 \r\nQ 21.96875 47.46875 24.109375 47.828125 \r\nQ 26.265625 48.1875 28.421875 48.1875 \r\nQ 40.625 48.1875 47.75 41.5 \r\nQ 54.890625 34.8125 54.890625 23.390625 \r\nQ 54.890625 11.625 47.5625 5.09375 \r\nQ 40.234375 -1.421875 26.90625 -1.421875 \r\nQ 22.3125 -1.421875 17.546875 -0.640625 \r\nQ 12.796875 0.140625 7.71875 1.703125 \r\nL 7.71875 11.625 \r\nQ 12.109375 9.234375 16.796875 8.0625 \r\nQ 21.484375 6.890625 26.703125 6.890625 \r\nQ 35.15625 6.890625 40.078125 11.328125 \r\nQ 45.015625 15.765625 45.015625 23.390625 \r\nQ 45.015625 31 40.078125 35.4375 \r\nQ 35.15625 39.890625 26.703125 39.890625 \r\nQ 22.75 39.890625 18.8125 39.015625 \r\nQ 14.890625 38.140625 10.796875 36.28125 \r\nz\r\n\" id=\"DejaVuSans-53\"/>\r\n       </defs>\r\n       <use xlink:href=\"#DejaVuSans-53\"/>\r\n       <use x=\"63.623047\" xlink:href=\"#DejaVuSans-48\"/>\r\n      </g>\r\n     </g>\r\n    </g>\r\n    <g id=\"xtick_3\">\r\n     <g id=\"line2d_3\">\r\n      <g>\r\n       <use style=\"stroke:#000000;stroke-width:0.8;\" x=\"129.554989\" xlink:href=\"#m95e0482b69\" y=\"227.960276\"/>\r\n      </g>\r\n     </g>\r\n     <g id=\"text_3\">\r\n      <!-- 100 -->\r\n      <g transform=\"translate(120.011239 242.558714)scale(0.1 -0.1)\">\r\n       <defs>\r\n        <path d=\"M 12.40625 8.296875 \r\nL 28.515625 8.296875 \r\nL 28.515625 63.921875 \r\nL 10.984375 60.40625 \r\nL 10.984375 69.390625 \r\nL 28.421875 72.90625 \r\nL 38.28125 72.90625 \r\nL 38.28125 8.296875 \r\nL 54.390625 8.296875 \r\nL 54.390625 0 \r\nL 12.40625 0 \r\nz\r\n\" id=\"DejaVuSans-49\"/>\r\n       </defs>\r\n       <use xlink:href=\"#DejaVuSans-49\"/>\r\n       <use x=\"63.623047\" xlink:href=\"#DejaVuSans-48\"/>\r\n       <use x=\"127.246094\" xlink:href=\"#DejaVuSans-48\"/>\r\n      </g>\r\n     </g>\r\n    </g>\r\n    <g id=\"xtick_4\">\r\n     <g id=\"line2d_4\">\r\n      <g>\r\n       <use style=\"stroke:#000000;stroke-width:0.8;\" x=\"177.449262\" xlink:href=\"#m95e0482b69\" y=\"227.960276\"/>\r\n      </g>\r\n     </g>\r\n     <g id=\"text_4\">\r\n      <!-- 150 -->\r\n      <g transform=\"translate(167.905512 242.558714)scale(0.1 -0.1)\">\r\n       <use xlink:href=\"#DejaVuSans-49\"/>\r\n       <use x=\"63.623047\" xlink:href=\"#DejaVuSans-53\"/>\r\n       <use x=\"127.246094\" xlink:href=\"#DejaVuSans-48\"/>\r\n      </g>\r\n     </g>\r\n    </g>\r\n    <g id=\"xtick_5\">\r\n     <g id=\"line2d_5\">\r\n      <g>\r\n       <use style=\"stroke:#000000;stroke-width:0.8;\" x=\"225.343535\" xlink:href=\"#m95e0482b69\" y=\"227.960276\"/>\r\n      </g>\r\n     </g>\r\n     <g id=\"text_5\">\r\n      <!-- 200 -->\r\n      <g transform=\"translate(215.799785 242.558714)scale(0.1 -0.1)\">\r\n       <defs>\r\n        <path d=\"M 19.1875 8.296875 \r\nL 53.609375 8.296875 \r\nL 53.609375 0 \r\nL 7.328125 0 \r\nL 7.328125 8.296875 \r\nQ 12.9375 14.109375 22.625 23.890625 \r\nQ 32.328125 33.6875 34.8125 36.53125 \r\nQ 39.546875 41.84375 41.421875 45.53125 \r\nQ 43.3125 49.21875 43.3125 52.78125 \r\nQ 43.3125 58.59375 39.234375 62.25 \r\nQ 35.15625 65.921875 28.609375 65.921875 \r\nQ 23.96875 65.921875 18.8125 64.3125 \r\nQ 13.671875 62.703125 7.8125 59.421875 \r\nL 7.8125 69.390625 \r\nQ 13.765625 71.78125 18.9375 73 \r\nQ 24.125 74.21875 28.421875 74.21875 \r\nQ 39.75 74.21875 46.484375 68.546875 \r\nQ 53.21875 62.890625 53.21875 53.421875 \r\nQ 53.21875 48.921875 51.53125 44.890625 \r\nQ 49.859375 40.875 45.40625 35.40625 \r\nQ 44.1875 33.984375 37.640625 27.21875 \r\nQ 31.109375 20.453125 19.1875 8.296875 \r\nz\r\n\" id=\"DejaVuSans-50\"/>\r\n       </defs>\r\n       <use xlink:href=\"#DejaVuSans-50\"/>\r\n       <use x=\"63.623047\" xlink:href=\"#DejaVuSans-48\"/>\r\n       <use x=\"127.246094\" xlink:href=\"#DejaVuSans-48\"/>\r\n      </g>\r\n     </g>\r\n    </g>\r\n   </g>\r\n   <g id=\"matplotlib.axis_2\">\r\n    <g id=\"ytick_1\">\r\n     <g id=\"line2d_6\">\r\n      <defs>\r\n       <path d=\"M 0 0 \r\nL -3.5 0 \r\n\" id=\"mec39a11958\" style=\"stroke:#000000;stroke-width:0.8;\"/>\r\n      </defs>\r\n      <g>\r\n       <use style=\"stroke:#000000;stroke-width:0.8;\" x=\"33.2875\" xlink:href=\"#mec39a11958\" y=\"10.999219\"/>\r\n      </g>\r\n     </g>\r\n     <g id=\"text_6\">\r\n      <!-- 0 -->\r\n      <g transform=\"translate(19.925 14.798437)scale(0.1 -0.1)\">\r\n       <use xlink:href=\"#DejaVuSans-48\"/>\r\n      </g>\r\n     </g>\r\n    </g>\r\n    <g id=\"ytick_2\">\r\n     <g id=\"line2d_7\">\r\n      <g>\r\n       <use style=\"stroke:#000000;stroke-width:0.8;\" x=\"33.2875\" xlink:href=\"#mec39a11958\" y=\"58.893492\"/>\r\n      </g>\r\n     </g>\r\n     <g id=\"text_7\">\r\n      <!-- 50 -->\r\n      <g transform=\"translate(13.5625 62.692711)scale(0.1 -0.1)\">\r\n       <use xlink:href=\"#DejaVuSans-53\"/>\r\n       <use x=\"63.623047\" xlink:href=\"#DejaVuSans-48\"/>\r\n      </g>\r\n     </g>\r\n    </g>\r\n    <g id=\"ytick_3\">\r\n     <g id=\"line2d_8\">\r\n      <g>\r\n       <use style=\"stroke:#000000;stroke-width:0.8;\" x=\"33.2875\" xlink:href=\"#mec39a11958\" y=\"106.787765\"/>\r\n      </g>\r\n     </g>\r\n     <g id=\"text_8\">\r\n      <!-- 100 -->\r\n      <g transform=\"translate(7.2 110.586984)scale(0.1 -0.1)\">\r\n       <use xlink:href=\"#DejaVuSans-49\"/>\r\n       <use x=\"63.623047\" xlink:href=\"#DejaVuSans-48\"/>\r\n       <use x=\"127.246094\" xlink:href=\"#DejaVuSans-48\"/>\r\n      </g>\r\n     </g>\r\n    </g>\r\n    <g id=\"ytick_4\">\r\n     <g id=\"line2d_9\">\r\n      <g>\r\n       <use style=\"stroke:#000000;stroke-width:0.8;\" x=\"33.2875\" xlink:href=\"#mec39a11958\" y=\"154.682038\"/>\r\n      </g>\r\n     </g>\r\n     <g id=\"text_9\">\r\n      <!-- 150 -->\r\n      <g transform=\"translate(7.2 158.481257)scale(0.1 -0.1)\">\r\n       <use xlink:href=\"#DejaVuSans-49\"/>\r\n       <use x=\"63.623047\" xlink:href=\"#DejaVuSans-53\"/>\r\n       <use x=\"127.246094\" xlink:href=\"#DejaVuSans-48\"/>\r\n      </g>\r\n     </g>\r\n    </g>\r\n    <g id=\"ytick_5\">\r\n     <g id=\"line2d_10\">\r\n      <g>\r\n       <use style=\"stroke:#000000;stroke-width:0.8;\" x=\"33.2875\" xlink:href=\"#mec39a11958\" y=\"202.576311\"/>\r\n      </g>\r\n     </g>\r\n     <g id=\"text_10\">\r\n      <!-- 200 -->\r\n      <g transform=\"translate(7.2 206.37553)scale(0.1 -0.1)\">\r\n       <use xlink:href=\"#DejaVuSans-50\"/>\r\n       <use x=\"63.623047\" xlink:href=\"#DejaVuSans-48\"/>\r\n       <use x=\"127.246094\" xlink:href=\"#DejaVuSans-48\"/>\r\n      </g>\r\n     </g>\r\n    </g>\r\n   </g>\r\n   <g id=\"patch_3\">\r\n    <path d=\"M 33.2875 227.960276 \r\nL 33.2875 10.520276 \r\n\" style=\"fill:none;stroke:#000000;stroke-linecap:square;stroke-linejoin:miter;stroke-width:0.8;\"/>\r\n   </g>\r\n   <g id=\"patch_4\">\r\n    <path d=\"M 250.7275 227.960276 \r\nL 250.7275 10.520276 \r\n\" style=\"fill:none;stroke:#000000;stroke-linecap:square;stroke-linejoin:miter;stroke-width:0.8;\"/>\r\n   </g>\r\n   <g id=\"patch_5\">\r\n    <path d=\"M 33.2875 227.960276 \r\nL 250.7275 227.960276 \r\n\" style=\"fill:none;stroke:#000000;stroke-linecap:square;stroke-linejoin:miter;stroke-width:0.8;\"/>\r\n   </g>\r\n   <g id=\"patch_6\">\r\n    <path d=\"M 33.2875 10.520276 \r\nL 250.7275 10.520276 \r\n\" style=\"fill:none;stroke:#000000;stroke-linecap:square;stroke-linejoin:miter;stroke-width:0.8;\"/>\r\n   </g>\r\n  </g>\r\n </g>\r\n <defs>\r\n  <clipPath id=\"p71e7385fe4\">\r\n   <rect height=\"217.44\" width=\"217.44\" x=\"33.2875\" y=\"10.520276\"/>\r\n  </clipPath>\r\n </defs>\r\n</svg>\r\n",
      "image/png": "[encoded data removed]"
     },
     "metadata": {
      "needs_background": "light"
     }
    },
    {
     "output_type": "display_data",
     "data": {
      "text/plain": "\u001b[3;91mFalse\u001b[0m\n",
      "text/html": "<pre style=\"white-space:pre;overflow-x:auto;line-height:normal;font-family:Menlo,'DejaVu Sans Mono',consolas,'Courier New',monospace\"><span style=\"color: #ff0000; text-decoration-color: #ff0000; font-style: italic\">False</span>\n</pre>\n"
     },
     "metadata": {}
    }
   ],
   "source": [
    "image,gClass = patches[130000 + 130000 - 1]\n",
    "plt.imshow(image)\n",
    "plt.show()\n",
    "print(gClass)"
   ]
  },
  {
   "source": [
    "For generating the 5 stratified folds in the paper we will need a simple table like structure for the patces, with patch name and class label. We store this in a simple CSV file."
   ],
   "cell_type": "markdown",
   "metadata": {}
  },
  {
   "cell_type": "code",
   "execution_count": 6,
   "metadata": {},
   "outputs": [],
   "source": [
    "#i = 0\n",
    "with open('spotgarbage-GINI-master\\spotgarbage\\\\train.csv', 'w', newline=\"\") as csvfile, os.scandir('spotgarbage-GINI-master\\spotgarbage\\patches') as it:\n",
    "    writer = csv.writer(csvfile, delimiter=',', quotechar='\"', quoting=csv.QUOTE_MINIMAL)\n",
    "    writer.writerow(['name','class'])\n",
    "    for entry in it:\n",
    "        #i += 1\n",
    "        name = str(PurePath(entry.name))\n",
    "        parts = str(name).split(sep = '_')\n",
    "        if (parts[0]) in GarbageNames:\n",
    "            writer.writerow([name,'garbage'])\n",
    "        if (parts[0]) in NonGarbageNames:\n",
    "            writer.writerow([name,'nongarbage'])\n",
    "        #print(parts[0])\n",
    "        #if i == 10:\n",
    "        #    break\n"
   ]
  },
  {
   "cell_type": "code",
   "execution_count": null,
   "metadata": {},
   "outputs": [],
   "source": []
  }
 ]
}